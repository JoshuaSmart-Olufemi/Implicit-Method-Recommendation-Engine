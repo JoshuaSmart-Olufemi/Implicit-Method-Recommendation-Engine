{
 "cells": [
  {
   "cell_type": "markdown",
   "metadata": {},
   "source": [
    "## Importing Libraries"
   ]
  },
  {
   "cell_type": "code",
   "execution_count": 1,
   "metadata": {},
   "outputs": [],
   "source": [
    "import pandas as pd\n",
    "import scipy.sparse as sparse\n",
    "import numpy as np\n",
    "from scipy.sparse.linalg import spsolve"
   ]
  },
  {
   "cell_type": "code",
   "execution_count": 2,
   "metadata": {},
   "outputs": [],
   "source": [
    "import pyodbc #pulling data out of sql server"
   ]
  },
  {
   "cell_type": "markdown",
   "metadata": {},
   "source": [
    "## Connecting to SQL"
   ]
  },
  {
   "cell_type": "code",
   "execution_count": 3,
   "metadata": {},
   "outputs": [],
   "source": [
    "Cnt2SQL = pyodbc.connect(\n",
    "\"Driver={SQL Server Native Client 11.0};\"\n",
    "    #REPLACE TCOKER with your own Server Name(you can find the server name on the connect window when you open sql mgt studio)\n",
    " \"Server=DESKTOP-NEDV4G5;\"\n",
    "    # REPLACE AdventureWorksDW2012 with the database you want\n",
    "\"Database=AdventureWorksDW2012;\"\n",
    "\"Trusted_Connection=yes;\")"
   ]
  },
  {
   "cell_type": "code",
   "execution_count": 4,
   "metadata": {},
   "outputs": [],
   "source": [
    "#pull customer and product purchases from SQL including region and demographics for clustering recommendations\n",
    "\n",
    "internet_sales_alldata=pd.read_sql_query(\"\"\"\n",
    "SELECT\n",
    "FIS.[SalesOrderNumber],\n",
    "FIS.[ProductKey] as ProductID,\n",
    "Prod.EnglishProductName as ProductName,\n",
    "FIS.[CustomerKey] as CustomerID,\n",
    "FIS.[OrderQuantity] as OrderVol,\n",
    "Cust.[BirthDate],\n",
    "Cust.[MaritalStatus],\n",
    "Cust.[Gender],\n",
    "Cust.[YearlyIncome],\n",
    "Cust.[TotalChildren],\n",
    "Cust.[HouseOwnerFlag],\n",
    "Cust.[NumberCarsOwned],\n",
    "Cust.[CommuteDistance],\n",
    "Geo.[City],\n",
    "Geo.[CountryRegionCode]\n",
    "FROM [dbo].[FactInternetSales] as FIS\n",
    "LEFT JOIN [dbo].[DimProduct] as Prod\n",
    "ON FIS.ProductKey=Prod.ProductKey \n",
    "LEFT JOIN [dbo].[DimCustomer] AS Cust\n",
    "ON FIS.[CustomerKey]= Cust.[CustomerKey]\n",
    "LEFT JOIN [dbo].[DimGeography] AS Geo\n",
    "ON Cust.[GeographyKey] = Geo.[GeographyKey]\"\"\", Cnt2SQL)"
   ]
  },
  {
   "cell_type": "code",
   "execution_count": 5,
   "metadata": {},
   "outputs": [
    {
     "data": {
      "text/html": [
       "<div>\n",
       "<style scoped>\n",
       "    .dataframe tbody tr th:only-of-type {\n",
       "        vertical-align: middle;\n",
       "    }\n",
       "\n",
       "    .dataframe tbody tr th {\n",
       "        vertical-align: top;\n",
       "    }\n",
       "\n",
       "    .dataframe thead th {\n",
       "        text-align: right;\n",
       "    }\n",
       "</style>\n",
       "<table border=\"1\" class=\"dataframe\">\n",
       "  <thead>\n",
       "    <tr style=\"text-align: right;\">\n",
       "      <th></th>\n",
       "      <th>SalesOrderNumber</th>\n",
       "      <th>ProductID</th>\n",
       "      <th>ProductName</th>\n",
       "      <th>CustomerID</th>\n",
       "      <th>OrderVol</th>\n",
       "      <th>BirthDate</th>\n",
       "      <th>MaritalStatus</th>\n",
       "      <th>Gender</th>\n",
       "      <th>YearlyIncome</th>\n",
       "      <th>TotalChildren</th>\n",
       "      <th>HouseOwnerFlag</th>\n",
       "      <th>NumberCarsOwned</th>\n",
       "      <th>CommuteDistance</th>\n",
       "      <th>City</th>\n",
       "      <th>CountryRegionCode</th>\n",
       "    </tr>\n",
       "  </thead>\n",
       "  <tbody>\n",
       "    <tr>\n",
       "      <th>0</th>\n",
       "      <td>SO74917</td>\n",
       "      <td>488</td>\n",
       "      <td>Short-Sleeve Classic Jersey, S</td>\n",
       "      <td>28782</td>\n",
       "      <td>1</td>\n",
       "      <td>1961-09-08</td>\n",
       "      <td>M</td>\n",
       "      <td>M</td>\n",
       "      <td>30000.0</td>\n",
       "      <td>2</td>\n",
       "      <td>1</td>\n",
       "      <td>2</td>\n",
       "      <td>1-2 Miles</td>\n",
       "      <td>Coronado</td>\n",
       "      <td>US</td>\n",
       "    </tr>\n",
       "    <tr>\n",
       "      <th>1</th>\n",
       "      <td>SO74922</td>\n",
       "      <td>535</td>\n",
       "      <td>LL Mountain Tire</td>\n",
       "      <td>11330</td>\n",
       "      <td>1</td>\n",
       "      <td>1945-11-10</td>\n",
       "      <td>M</td>\n",
       "      <td>M</td>\n",
       "      <td>110000.0</td>\n",
       "      <td>2</td>\n",
       "      <td>1</td>\n",
       "      <td>1</td>\n",
       "      <td>2-5 Miles</td>\n",
       "      <td>Oak Bay</td>\n",
       "      <td>CA</td>\n",
       "    </tr>\n",
       "    <tr>\n",
       "      <th>2</th>\n",
       "      <td>SO74925</td>\n",
       "      <td>541</td>\n",
       "      <td>Touring Tire</td>\n",
       "      <td>14341</td>\n",
       "      <td>1</td>\n",
       "      <td>1985-04-21</td>\n",
       "      <td>M</td>\n",
       "      <td>M</td>\n",
       "      <td>30000.0</td>\n",
       "      <td>0</td>\n",
       "      <td>0</td>\n",
       "      <td>2</td>\n",
       "      <td>0-1 Miles</td>\n",
       "      <td>Langley</td>\n",
       "      <td>CA</td>\n",
       "    </tr>\n",
       "    <tr>\n",
       "      <th>3</th>\n",
       "      <td>SO74925</td>\n",
       "      <td>530</td>\n",
       "      <td>Touring Tire Tube</td>\n",
       "      <td>14341</td>\n",
       "      <td>1</td>\n",
       "      <td>1985-04-21</td>\n",
       "      <td>M</td>\n",
       "      <td>M</td>\n",
       "      <td>30000.0</td>\n",
       "      <td>0</td>\n",
       "      <td>0</td>\n",
       "      <td>2</td>\n",
       "      <td>0-1 Miles</td>\n",
       "      <td>Langley</td>\n",
       "      <td>CA</td>\n",
       "    </tr>\n",
       "    <tr>\n",
       "      <th>4</th>\n",
       "      <td>SO74925</td>\n",
       "      <td>214</td>\n",
       "      <td>Sport-100 Helmet, Red</td>\n",
       "      <td>14341</td>\n",
       "      <td>1</td>\n",
       "      <td>1985-04-21</td>\n",
       "      <td>M</td>\n",
       "      <td>M</td>\n",
       "      <td>30000.0</td>\n",
       "      <td>0</td>\n",
       "      <td>0</td>\n",
       "      <td>2</td>\n",
       "      <td>0-1 Miles</td>\n",
       "      <td>Langley</td>\n",
       "      <td>CA</td>\n",
       "    </tr>\n",
       "  </tbody>\n",
       "</table>\n",
       "</div>"
      ],
      "text/plain": [
       "  SalesOrderNumber  ProductID                     ProductName  CustomerID  \\\n",
       "0          SO74917        488  Short-Sleeve Classic Jersey, S       28782   \n",
       "1          SO74922        535                LL Mountain Tire       11330   \n",
       "2          SO74925        541                    Touring Tire       14341   \n",
       "3          SO74925        530               Touring Tire Tube       14341   \n",
       "4          SO74925        214           Sport-100 Helmet, Red       14341   \n",
       "\n",
       "   OrderVol   BirthDate MaritalStatus Gender  YearlyIncome  TotalChildren  \\\n",
       "0         1  1961-09-08             M      M       30000.0              2   \n",
       "1         1  1945-11-10             M      M      110000.0              2   \n",
       "2         1  1985-04-21             M      M       30000.0              0   \n",
       "3         1  1985-04-21             M      M       30000.0              0   \n",
       "4         1  1985-04-21             M      M       30000.0              0   \n",
       "\n",
       "  HouseOwnerFlag  NumberCarsOwned CommuteDistance      City CountryRegionCode  \n",
       "0              1                2       1-2 Miles  Coronado                US  \n",
       "1              1                1       2-5 Miles   Oak Bay                CA  \n",
       "2              0                2       0-1 Miles   Langley                CA  \n",
       "3              0                2       0-1 Miles   Langley                CA  \n",
       "4              0                2       0-1 Miles   Langley                CA  "
      ]
     },
     "execution_count": 5,
     "metadata": {},
     "output_type": "execute_result"
    }
   ],
   "source": [
    "internet_sales_alldata.head()"
   ]
  },
  {
   "cell_type": "code",
   "execution_count": 6,
   "metadata": {},
   "outputs": [
    {
     "data": {
      "text/plain": [
       "(60398, 15)"
      ]
     },
     "execution_count": 6,
     "metadata": {},
     "output_type": "execute_result"
    }
   ],
   "source": [
    "#some high level stats\n",
    "internet_sales_alldata.shape"
   ]
  },
  {
   "cell_type": "code",
   "execution_count": 7,
   "metadata": {},
   "outputs": [
    {
     "data": {
      "text/plain": [
       "SalesOrderNumber      object\n",
       "ProductID              int64\n",
       "ProductName           object\n",
       "CustomerID             int64\n",
       "OrderVol               int64\n",
       "BirthDate             object\n",
       "MaritalStatus         object\n",
       "Gender                object\n",
       "YearlyIncome         float64\n",
       "TotalChildren          int64\n",
       "HouseOwnerFlag        object\n",
       "NumberCarsOwned        int64\n",
       "CommuteDistance       object\n",
       "City                  object\n",
       "CountryRegionCode     object\n",
       "dtype: object"
      ]
     },
     "execution_count": 7,
     "metadata": {},
     "output_type": "execute_result"
    }
   ],
   "source": [
    "internet_sales_alldata.dtypes"
   ]
  },
  {
   "cell_type": "code",
   "execution_count": 8,
   "metadata": {},
   "outputs": [
    {
     "name": "stdout",
     "output_type": "stream",
     "text": [
      "<class 'pandas.core.frame.DataFrame'>\n",
      "RangeIndex: 60398 entries, 0 to 60397\n",
      "Data columns (total 15 columns):\n",
      "SalesOrderNumber     60398 non-null object\n",
      "ProductID            60398 non-null int64\n",
      "ProductName          60398 non-null object\n",
      "CustomerID           60398 non-null int64\n",
      "OrderVol             60398 non-null int64\n",
      "BirthDate            60398 non-null object\n",
      "MaritalStatus        60398 non-null object\n",
      "Gender               60398 non-null object\n",
      "YearlyIncome         60398 non-null float64\n",
      "TotalChildren        60398 non-null int64\n",
      "HouseOwnerFlag       60398 non-null object\n",
      "NumberCarsOwned      60398 non-null int64\n",
      "CommuteDistance      60398 non-null object\n",
      "City                 60398 non-null object\n",
      "CountryRegionCode    60398 non-null object\n",
      "dtypes: float64(1), int64(5), object(9)\n",
      "memory usage: 6.9+ MB\n"
     ]
    }
   ],
   "source": [
    "# Check for missing values\n",
    "internet_sales_alldata.info()"
   ]
  },
  {
   "cell_type": "code",
   "execution_count": 10,
   "metadata": {},
   "outputs": [],
   "source": [
    "products_alldata=pd.read_sql_query(\"\"\"\n",
    "SELECT\n",
    "* FROM [dbo].[DimProduct]\"\"\", Cnt2SQL)"
   ]
  },
  {
   "cell_type": "code",
   "execution_count": 11,
   "metadata": {},
   "outputs": [
    {
     "data": {
      "text/html": [
       "<div>\n",
       "<style scoped>\n",
       "    .dataframe tbody tr th:only-of-type {\n",
       "        vertical-align: middle;\n",
       "    }\n",
       "\n",
       "    .dataframe tbody tr th {\n",
       "        vertical-align: top;\n",
       "    }\n",
       "\n",
       "    .dataframe thead th {\n",
       "        text-align: right;\n",
       "    }\n",
       "</style>\n",
       "<table border=\"1\" class=\"dataframe\">\n",
       "  <thead>\n",
       "    <tr style=\"text-align: right;\">\n",
       "      <th></th>\n",
       "      <th>ProductKey</th>\n",
       "      <th>ProductAlternateKey</th>\n",
       "      <th>ProductSubcategoryKey</th>\n",
       "      <th>WeightUnitMeasureCode</th>\n",
       "      <th>SizeUnitMeasureCode</th>\n",
       "      <th>EnglishProductName</th>\n",
       "      <th>SpanishProductName</th>\n",
       "      <th>FrenchProductName</th>\n",
       "      <th>StandardCost</th>\n",
       "      <th>FinishedGoodsFlag</th>\n",
       "      <th>...</th>\n",
       "      <th>ChineseDescription</th>\n",
       "      <th>ArabicDescription</th>\n",
       "      <th>HebrewDescription</th>\n",
       "      <th>ThaiDescription</th>\n",
       "      <th>GermanDescription</th>\n",
       "      <th>JapaneseDescription</th>\n",
       "      <th>TurkishDescription</th>\n",
       "      <th>StartDate</th>\n",
       "      <th>EndDate</th>\n",
       "      <th>Status</th>\n",
       "    </tr>\n",
       "  </thead>\n",
       "  <tbody>\n",
       "    <tr>\n",
       "      <th>0</th>\n",
       "      <td>1</td>\n",
       "      <td>AR-5381</td>\n",
       "      <td>NaN</td>\n",
       "      <td>None</td>\n",
       "      <td>None</td>\n",
       "      <td>Adjustable Race</td>\n",
       "      <td></td>\n",
       "      <td></td>\n",
       "      <td>NaN</td>\n",
       "      <td>False</td>\n",
       "      <td>...</td>\n",
       "      <td>None</td>\n",
       "      <td>None</td>\n",
       "      <td>None</td>\n",
       "      <td>None</td>\n",
       "      <td>None</td>\n",
       "      <td>None</td>\n",
       "      <td>None</td>\n",
       "      <td>2003-07-01</td>\n",
       "      <td>NaT</td>\n",
       "      <td>Current</td>\n",
       "    </tr>\n",
       "    <tr>\n",
       "      <th>1</th>\n",
       "      <td>2</td>\n",
       "      <td>BA-8327</td>\n",
       "      <td>NaN</td>\n",
       "      <td>None</td>\n",
       "      <td>None</td>\n",
       "      <td>Bearing Ball</td>\n",
       "      <td></td>\n",
       "      <td></td>\n",
       "      <td>NaN</td>\n",
       "      <td>False</td>\n",
       "      <td>...</td>\n",
       "      <td>None</td>\n",
       "      <td>None</td>\n",
       "      <td>None</td>\n",
       "      <td>None</td>\n",
       "      <td>None</td>\n",
       "      <td>None</td>\n",
       "      <td>None</td>\n",
       "      <td>2003-07-01</td>\n",
       "      <td>NaT</td>\n",
       "      <td>Current</td>\n",
       "    </tr>\n",
       "    <tr>\n",
       "      <th>2</th>\n",
       "      <td>3</td>\n",
       "      <td>BE-2349</td>\n",
       "      <td>NaN</td>\n",
       "      <td>None</td>\n",
       "      <td>None</td>\n",
       "      <td>BB Ball Bearing</td>\n",
       "      <td></td>\n",
       "      <td></td>\n",
       "      <td>NaN</td>\n",
       "      <td>False</td>\n",
       "      <td>...</td>\n",
       "      <td>None</td>\n",
       "      <td>None</td>\n",
       "      <td>None</td>\n",
       "      <td>None</td>\n",
       "      <td>None</td>\n",
       "      <td>None</td>\n",
       "      <td>None</td>\n",
       "      <td>2003-07-01</td>\n",
       "      <td>NaT</td>\n",
       "      <td>Current</td>\n",
       "    </tr>\n",
       "    <tr>\n",
       "      <th>3</th>\n",
       "      <td>4</td>\n",
       "      <td>BE-2908</td>\n",
       "      <td>NaN</td>\n",
       "      <td>None</td>\n",
       "      <td>None</td>\n",
       "      <td>Headset Ball Bearings</td>\n",
       "      <td></td>\n",
       "      <td></td>\n",
       "      <td>NaN</td>\n",
       "      <td>False</td>\n",
       "      <td>...</td>\n",
       "      <td>None</td>\n",
       "      <td>None</td>\n",
       "      <td>None</td>\n",
       "      <td>None</td>\n",
       "      <td>None</td>\n",
       "      <td>None</td>\n",
       "      <td>None</td>\n",
       "      <td>2003-07-01</td>\n",
       "      <td>NaT</td>\n",
       "      <td>Current</td>\n",
       "    </tr>\n",
       "    <tr>\n",
       "      <th>4</th>\n",
       "      <td>5</td>\n",
       "      <td>BL-2036</td>\n",
       "      <td>NaN</td>\n",
       "      <td>None</td>\n",
       "      <td>None</td>\n",
       "      <td>Blade</td>\n",
       "      <td></td>\n",
       "      <td></td>\n",
       "      <td>NaN</td>\n",
       "      <td>False</td>\n",
       "      <td>...</td>\n",
       "      <td>None</td>\n",
       "      <td>None</td>\n",
       "      <td>None</td>\n",
       "      <td>None</td>\n",
       "      <td>None</td>\n",
       "      <td>None</td>\n",
       "      <td>None</td>\n",
       "      <td>2003-07-01</td>\n",
       "      <td>NaT</td>\n",
       "      <td>Current</td>\n",
       "    </tr>\n",
       "  </tbody>\n",
       "</table>\n",
       "<p>5 rows × 36 columns</p>\n",
       "</div>"
      ],
      "text/plain": [
       "   ProductKey ProductAlternateKey  ProductSubcategoryKey  \\\n",
       "0           1             AR-5381                    NaN   \n",
       "1           2             BA-8327                    NaN   \n",
       "2           3             BE-2349                    NaN   \n",
       "3           4             BE-2908                    NaN   \n",
       "4           5             BL-2036                    NaN   \n",
       "\n",
       "  WeightUnitMeasureCode SizeUnitMeasureCode     EnglishProductName  \\\n",
       "0                  None                None        Adjustable Race   \n",
       "1                  None                None           Bearing Ball   \n",
       "2                  None                None        BB Ball Bearing   \n",
       "3                  None                None  Headset Ball Bearings   \n",
       "4                  None                None                  Blade   \n",
       "\n",
       "  SpanishProductName FrenchProductName  StandardCost  FinishedGoodsFlag  \\\n",
       "0                                                NaN              False   \n",
       "1                                                NaN              False   \n",
       "2                                                NaN              False   \n",
       "3                                                NaN              False   \n",
       "4                                                NaN              False   \n",
       "\n",
       "    ...    ChineseDescription  ArabicDescription  HebrewDescription  \\\n",
       "0   ...                  None               None               None   \n",
       "1   ...                  None               None               None   \n",
       "2   ...                  None               None               None   \n",
       "3   ...                  None               None               None   \n",
       "4   ...                  None               None               None   \n",
       "\n",
       "   ThaiDescription GermanDescription JapaneseDescription  TurkishDescription  \\\n",
       "0             None              None                None                None   \n",
       "1             None              None                None                None   \n",
       "2             None              None                None                None   \n",
       "3             None              None                None                None   \n",
       "4             None              None                None                None   \n",
       "\n",
       "   StartDate EndDate   Status  \n",
       "0 2003-07-01     NaT  Current  \n",
       "1 2003-07-01     NaT  Current  \n",
       "2 2003-07-01     NaT  Current  \n",
       "3 2003-07-01     NaT  Current  \n",
       "4 2003-07-01     NaT  Current  \n",
       "\n",
       "[5 rows x 36 columns]"
      ]
     },
     "execution_count": 11,
     "metadata": {},
     "output_type": "execute_result"
    }
   ],
   "source": [
    "products_alldata.head()"
   ]
  },
  {
   "cell_type": "code",
   "execution_count": 12,
   "metadata": {},
   "outputs": [
    {
     "data": {
      "text/plain": [
       "(606, 36)"
      ]
     },
     "execution_count": 12,
     "metadata": {},
     "output_type": "execute_result"
    }
   ],
   "source": [
    "#some high level stats\n",
    "products_alldata.shape"
   ]
  },
  {
   "cell_type": "code",
   "execution_count": 13,
   "metadata": {},
   "outputs": [
    {
     "data": {
      "text/plain": [
       "ProductKey                        int64\n",
       "ProductAlternateKey              object\n",
       "ProductSubcategoryKey           float64\n",
       "WeightUnitMeasureCode            object\n",
       "SizeUnitMeasureCode              object\n",
       "EnglishProductName               object\n",
       "SpanishProductName               object\n",
       "FrenchProductName                object\n",
       "StandardCost                    float64\n",
       "FinishedGoodsFlag                  bool\n",
       "Color                            object\n",
       "SafetyStockLevel                  int64\n",
       "ReorderPoint                      int64\n",
       "ListPrice                       float64\n",
       "Size                             object\n",
       "SizeRange                        object\n",
       "Weight                          float64\n",
       "DaysToManufacture                 int64\n",
       "ProductLine                      object\n",
       "DealerPrice                     float64\n",
       "Class                            object\n",
       "Style                            object\n",
       "ModelName                        object\n",
       "LargePhoto                       object\n",
       "EnglishDescription               object\n",
       "FrenchDescription                object\n",
       "ChineseDescription               object\n",
       "ArabicDescription                object\n",
       "HebrewDescription                object\n",
       "ThaiDescription                  object\n",
       "GermanDescription                object\n",
       "JapaneseDescription              object\n",
       "TurkishDescription               object\n",
       "StartDate                datetime64[ns]\n",
       "EndDate                  datetime64[ns]\n",
       "Status                           object\n",
       "dtype: object"
      ]
     },
     "execution_count": 13,
     "metadata": {},
     "output_type": "execute_result"
    }
   ],
   "source": [
    "products_alldata.dtypes"
   ]
  },
  {
   "cell_type": "code",
   "execution_count": 14,
   "metadata": {},
   "outputs": [
    {
     "data": {
      "text/html": [
       "<div>\n",
       "<style scoped>\n",
       "    .dataframe tbody tr th:only-of-type {\n",
       "        vertical-align: middle;\n",
       "    }\n",
       "\n",
       "    .dataframe tbody tr th {\n",
       "        vertical-align: top;\n",
       "    }\n",
       "\n",
       "    .dataframe thead th {\n",
       "        text-align: right;\n",
       "    }\n",
       "</style>\n",
       "<table border=\"1\" class=\"dataframe\">\n",
       "  <thead>\n",
       "    <tr style=\"text-align: right;\">\n",
       "      <th></th>\n",
       "      <th>ProductKey</th>\n",
       "      <th>ProductSubcategoryKey</th>\n",
       "      <th>StandardCost</th>\n",
       "      <th>SafetyStockLevel</th>\n",
       "      <th>ReorderPoint</th>\n",
       "      <th>ListPrice</th>\n",
       "      <th>Weight</th>\n",
       "      <th>DaysToManufacture</th>\n",
       "      <th>DealerPrice</th>\n",
       "    </tr>\n",
       "  </thead>\n",
       "  <tbody>\n",
       "    <tr>\n",
       "      <th>count</th>\n",
       "      <td>606.00000</td>\n",
       "      <td>397.000000</td>\n",
       "      <td>395.000000</td>\n",
       "      <td>606.000000</td>\n",
       "      <td>606.000000</td>\n",
       "      <td>395.000000</td>\n",
       "      <td>282.000000</td>\n",
       "      <td>606.000000</td>\n",
       "      <td>395.000000</td>\n",
       "    </tr>\n",
       "    <tr>\n",
       "      <th>mean</th>\n",
       "      <td>303.50000</td>\n",
       "      <td>12.128463</td>\n",
       "      <td>434.265829</td>\n",
       "      <td>495.201320</td>\n",
       "      <td>371.400990</td>\n",
       "      <td>747.661762</td>\n",
       "      <td>56.193227</td>\n",
       "      <td>1.201320</td>\n",
       "      <td>448.597060</td>\n",
       "    </tr>\n",
       "    <tr>\n",
       "      <th>std</th>\n",
       "      <td>175.08141</td>\n",
       "      <td>9.423328</td>\n",
       "      <td>497.379884</td>\n",
       "      <td>364.007114</td>\n",
       "      <td>273.005336</td>\n",
       "      <td>838.708451</td>\n",
       "      <td>158.000652</td>\n",
       "      <td>1.508893</td>\n",
       "      <td>503.225071</td>\n",
       "    </tr>\n",
       "    <tr>\n",
       "      <th>min</th>\n",
       "      <td>1.00000</td>\n",
       "      <td>1.000000</td>\n",
       "      <td>0.856500</td>\n",
       "      <td>4.000000</td>\n",
       "      <td>3.000000</td>\n",
       "      <td>2.290000</td>\n",
       "      <td>2.120000</td>\n",
       "      <td>0.000000</td>\n",
       "      <td>1.374000</td>\n",
       "    </tr>\n",
       "    <tr>\n",
       "      <th>25%</th>\n",
       "      <td>152.25000</td>\n",
       "      <td>2.000000</td>\n",
       "      <td>37.120900</td>\n",
       "      <td>100.000000</td>\n",
       "      <td>75.000000</td>\n",
       "      <td>69.990000</td>\n",
       "      <td>2.680000</td>\n",
       "      <td>0.000000</td>\n",
       "      <td>41.994000</td>\n",
       "    </tr>\n",
       "    <tr>\n",
       "      <th>50%</th>\n",
       "      <td>303.50000</td>\n",
       "      <td>13.000000</td>\n",
       "      <td>204.625100</td>\n",
       "      <td>500.000000</td>\n",
       "      <td>375.000000</td>\n",
       "      <td>364.090000</td>\n",
       "      <td>15.420000</td>\n",
       "      <td>1.000000</td>\n",
       "      <td>218.454000</td>\n",
       "    </tr>\n",
       "    <tr>\n",
       "      <th>75%</th>\n",
       "      <td>454.75000</td>\n",
       "      <td>16.000000</td>\n",
       "      <td>660.914200</td>\n",
       "      <td>1000.000000</td>\n",
       "      <td>750.000000</td>\n",
       "      <td>1204.324800</td>\n",
       "      <td>24.130000</td>\n",
       "      <td>1.000000</td>\n",
       "      <td>722.594900</td>\n",
       "    </tr>\n",
       "    <tr>\n",
       "      <th>max</th>\n",
       "      <td>606.00000</td>\n",
       "      <td>37.000000</td>\n",
       "      <td>2171.294200</td>\n",
       "      <td>1000.000000</td>\n",
       "      <td>750.000000</td>\n",
       "      <td>3578.270000</td>\n",
       "      <td>1050.000000</td>\n",
       "      <td>4.000000</td>\n",
       "      <td>2146.962000</td>\n",
       "    </tr>\n",
       "  </tbody>\n",
       "</table>\n",
       "</div>"
      ],
      "text/plain": [
       "       ProductKey  ProductSubcategoryKey  StandardCost  SafetyStockLevel  \\\n",
       "count   606.00000             397.000000    395.000000        606.000000   \n",
       "mean    303.50000              12.128463    434.265829        495.201320   \n",
       "std     175.08141               9.423328    497.379884        364.007114   \n",
       "min       1.00000               1.000000      0.856500          4.000000   \n",
       "25%     152.25000               2.000000     37.120900        100.000000   \n",
       "50%     303.50000              13.000000    204.625100        500.000000   \n",
       "75%     454.75000              16.000000    660.914200       1000.000000   \n",
       "max     606.00000              37.000000   2171.294200       1000.000000   \n",
       "\n",
       "       ReorderPoint    ListPrice       Weight  DaysToManufacture  DealerPrice  \n",
       "count    606.000000   395.000000   282.000000         606.000000   395.000000  \n",
       "mean     371.400990   747.661762    56.193227           1.201320   448.597060  \n",
       "std      273.005336   838.708451   158.000652           1.508893   503.225071  \n",
       "min        3.000000     2.290000     2.120000           0.000000     1.374000  \n",
       "25%       75.000000    69.990000     2.680000           0.000000    41.994000  \n",
       "50%      375.000000   364.090000    15.420000           1.000000   218.454000  \n",
       "75%      750.000000  1204.324800    24.130000           1.000000   722.594900  \n",
       "max      750.000000  3578.270000  1050.000000           4.000000  2146.962000  "
      ]
     },
     "execution_count": 14,
     "metadata": {},
     "output_type": "execute_result"
    }
   ],
   "source": [
    "products_alldata.describe()"
   ]
  },
  {
   "cell_type": "code",
   "execution_count": 15,
   "metadata": {},
   "outputs": [
    {
     "data": {
      "text/plain": [
       "ProductKey                 0\n",
       "ProductAlternateKey        0\n",
       "ProductSubcategoryKey    209\n",
       "WeightUnitMeasureCode    324\n",
       "SizeUnitMeasureCode      353\n",
       "EnglishProductName         0\n",
       "SpanishProductName         0\n",
       "FrenchProductName          0\n",
       "StandardCost             211\n",
       "FinishedGoodsFlag          0\n",
       "Color                      0\n",
       "SafetyStockLevel           0\n",
       "ReorderPoint               0\n",
       "ListPrice                211\n",
       "Size                     307\n",
       "SizeRange                  0\n",
       "Weight                   324\n",
       "DaysToManufacture          0\n",
       "ProductLine              226\n",
       "DealerPrice              211\n",
       "Class                    276\n",
       "Style                    305\n",
       "ModelName                209\n",
       "LargePhoto                 0\n",
       "EnglishDescription       210\n",
       "FrenchDescription        210\n",
       "ChineseDescription       210\n",
       "ArabicDescription        210\n",
       "HebrewDescription        210\n",
       "ThaiDescription          210\n",
       "GermanDescription        210\n",
       "JapaneseDescription      210\n",
       "TurkishDescription       210\n",
       "StartDate                  0\n",
       "EndDate                  406\n",
       "Status                   200\n",
       "dtype: int64"
      ]
     },
     "execution_count": 15,
     "metadata": {},
     "output_type": "execute_result"
    }
   ],
   "source": [
    "products_alldata.isnull().sum()"
   ]
  },
  {
   "cell_type": "code",
   "execution_count": 16,
   "metadata": {},
   "outputs": [],
   "source": [
    "products_alldata.rename(columns={'ProductKey':'ProductID'}, inplace=True)"
   ]
  },
  {
   "cell_type": "code",
   "execution_count": 17,
   "metadata": {},
   "outputs": [],
   "source": [
    "# Importing subcategories table from SQL\n",
    "subcategories=pd.read_sql_query(\"\"\"\n",
    "SELECT\n",
    "* FROM [dbo].[DimProductSubcategory]\"\"\", Cnt2SQL)"
   ]
  },
  {
   "cell_type": "code",
   "execution_count": 18,
   "metadata": {},
   "outputs": [
    {
     "data": {
      "text/html": [
       "<div>\n",
       "<style scoped>\n",
       "    .dataframe tbody tr th:only-of-type {\n",
       "        vertical-align: middle;\n",
       "    }\n",
       "\n",
       "    .dataframe tbody tr th {\n",
       "        vertical-align: top;\n",
       "    }\n",
       "\n",
       "    .dataframe thead th {\n",
       "        text-align: right;\n",
       "    }\n",
       "</style>\n",
       "<table border=\"1\" class=\"dataframe\">\n",
       "  <thead>\n",
       "    <tr style=\"text-align: right;\">\n",
       "      <th></th>\n",
       "      <th>ProductSubcategoryKey</th>\n",
       "      <th>ProductSubcategoryAlternateKey</th>\n",
       "      <th>EnglishProductSubcategoryName</th>\n",
       "      <th>SpanishProductSubcategoryName</th>\n",
       "      <th>FrenchProductSubcategoryName</th>\n",
       "      <th>ProductCategoryKey</th>\n",
       "    </tr>\n",
       "  </thead>\n",
       "  <tbody>\n",
       "    <tr>\n",
       "      <th>0</th>\n",
       "      <td>1</td>\n",
       "      <td>1</td>\n",
       "      <td>Mountain Bikes</td>\n",
       "      <td>Bicicleta de montaña</td>\n",
       "      <td>VTT</td>\n",
       "      <td>1</td>\n",
       "    </tr>\n",
       "    <tr>\n",
       "      <th>1</th>\n",
       "      <td>2</td>\n",
       "      <td>2</td>\n",
       "      <td>Road Bikes</td>\n",
       "      <td>Bicicleta de carretera</td>\n",
       "      <td>Vélo de route</td>\n",
       "      <td>1</td>\n",
       "    </tr>\n",
       "    <tr>\n",
       "      <th>2</th>\n",
       "      <td>3</td>\n",
       "      <td>3</td>\n",
       "      <td>Touring Bikes</td>\n",
       "      <td>Bicicleta de paseo</td>\n",
       "      <td>Vélo de randonnée</td>\n",
       "      <td>1</td>\n",
       "    </tr>\n",
       "    <tr>\n",
       "      <th>3</th>\n",
       "      <td>4</td>\n",
       "      <td>4</td>\n",
       "      <td>Handlebars</td>\n",
       "      <td>Barra</td>\n",
       "      <td>Barre d'appui</td>\n",
       "      <td>2</td>\n",
       "    </tr>\n",
       "    <tr>\n",
       "      <th>4</th>\n",
       "      <td>5</td>\n",
       "      <td>5</td>\n",
       "      <td>Bottom Brackets</td>\n",
       "      <td>Eje de pedalier</td>\n",
       "      <td>Axe de pédalier</td>\n",
       "      <td>2</td>\n",
       "    </tr>\n",
       "  </tbody>\n",
       "</table>\n",
       "</div>"
      ],
      "text/plain": [
       "   ProductSubcategoryKey  ProductSubcategoryAlternateKey  \\\n",
       "0                      1                               1   \n",
       "1                      2                               2   \n",
       "2                      3                               3   \n",
       "3                      4                               4   \n",
       "4                      5                               5   \n",
       "\n",
       "  EnglishProductSubcategoryName SpanishProductSubcategoryName  \\\n",
       "0                Mountain Bikes          Bicicleta de montaña   \n",
       "1                    Road Bikes        Bicicleta de carretera   \n",
       "2                 Touring Bikes            Bicicleta de paseo   \n",
       "3                    Handlebars                         Barra   \n",
       "4               Bottom Brackets               Eje de pedalier   \n",
       "\n",
       "  FrenchProductSubcategoryName  ProductCategoryKey  \n",
       "0                          VTT                   1  \n",
       "1                Vélo de route                   1  \n",
       "2            Vélo de randonnée                   1  \n",
       "3                Barre d'appui                   2  \n",
       "4              Axe de pédalier                   2  "
      ]
     },
     "execution_count": 18,
     "metadata": {},
     "output_type": "execute_result"
    }
   ],
   "source": [
    "subcategories.head()"
   ]
  },
  {
   "cell_type": "code",
   "execution_count": 19,
   "metadata": {},
   "outputs": [],
   "source": [
    "#add product sub category info to product data\n",
    "products_alldata=products_alldata.merge(subcategories,on='ProductSubcategoryKey',how='left')"
   ]
  },
  {
   "cell_type": "code",
   "execution_count": 20,
   "metadata": {},
   "outputs": [
    {
     "name": "stdout",
     "output_type": "stream",
     "text": [
      "(606, 41)\n"
     ]
    }
   ],
   "source": [
    "#check integrity of dataframe maintained\n",
    "print(products_alldata.shape)"
   ]
  },
  {
   "cell_type": "markdown",
   "metadata": {},
   "source": [
    "### Recommendation Engine User Filter"
   ]
  },
  {
   "cell_type": "code",
   "execution_count": 23,
   "metadata": {},
   "outputs": [],
   "source": [
    "#choose one method below:\n",
    "\n",
    "internet_sales=internet_sales_alldata #no filtering\n",
    "#internet_sales=internet_sales_alldata.loc[internet_sales_alldata['CountryRegionCode'] == 'CA'] # geo filter\n",
    "#internet_sales=internet_sales_alldata.loc[internet_sales_alldata['Gender'] == 'F'] # gender filter\n",
    "#internet_sales=internet_sales_alldata.loc[(internet_sales_alldata['CountryRegionCode'] == 'CA') & (internet_sales_alldata['YearlyIncome'] > 40000)] #dual filter"
   ]
  },
  {
   "cell_type": "code",
   "execution_count": 24,
   "metadata": {},
   "outputs": [
    {
     "data": {
      "text/plain": [
       "(60398, 15)"
      ]
     },
     "execution_count": 24,
     "metadata": {},
     "output_type": "execute_result"
    }
   ],
   "source": [
    "#checks to see if filtering worked\n",
    "internet_sales.shape # the number should correspond with the ttoal count in SQL whic is 60398"
   ]
  },
  {
   "cell_type": "code",
   "execution_count": 24,
   "metadata": {},
   "outputs": [
    {
     "data": {
      "text/plain": [
       "SalesOrderNumber      object\n",
       "ProductID              int64\n",
       "ProductName           object\n",
       "CustomerID             int64\n",
       "OrderVol               int64\n",
       "BirthDate             object\n",
       "MaritalStatus         object\n",
       "Gender                object\n",
       "YearlyIncome         float64\n",
       "TotalChildren          int64\n",
       "HouseOwnerFlag        object\n",
       "NumberCarsOwned        int64\n",
       "CommuteDistance       object\n",
       "City                  object\n",
       "CountryRegionCode     object\n",
       "dtype: object"
      ]
     },
     "execution_count": 24,
     "metadata": {},
     "output_type": "execute_result"
    }
   ],
   "source": [
    "internet_sales.dtypes"
   ]
  },
  {
   "cell_type": "code",
   "execution_count": 25,
   "metadata": {},
   "outputs": [
    {
     "data": {
      "text/html": [
       "<div>\n",
       "<style scoped>\n",
       "    .dataframe tbody tr th:only-of-type {\n",
       "        vertical-align: middle;\n",
       "    }\n",
       "\n",
       "    .dataframe tbody tr th {\n",
       "        vertical-align: top;\n",
       "    }\n",
       "\n",
       "    .dataframe thead th {\n",
       "        text-align: right;\n",
       "    }\n",
       "</style>\n",
       "<table border=\"1\" class=\"dataframe\">\n",
       "  <thead>\n",
       "    <tr style=\"text-align: right;\">\n",
       "      <th></th>\n",
       "      <th>ProductID</th>\n",
       "      <th>CustomerID</th>\n",
       "      <th>OrderVol</th>\n",
       "      <th>YearlyIncome</th>\n",
       "      <th>TotalChildren</th>\n",
       "      <th>NumberCarsOwned</th>\n",
       "    </tr>\n",
       "  </thead>\n",
       "  <tbody>\n",
       "    <tr>\n",
       "      <th>count</th>\n",
       "      <td>60398.000000</td>\n",
       "      <td>60398.000000</td>\n",
       "      <td>60398.0</td>\n",
       "      <td>60398.000000</td>\n",
       "      <td>60398.00000</td>\n",
       "      <td>60398.000000</td>\n",
       "    </tr>\n",
       "    <tr>\n",
       "      <th>mean</th>\n",
       "      <td>437.557932</td>\n",
       "      <td>18841.685420</td>\n",
       "      <td>1.0</td>\n",
       "      <td>59715.056790</td>\n",
       "      <td>1.85074</td>\n",
       "      <td>1.509189</td>\n",
       "    </tr>\n",
       "    <tr>\n",
       "      <th>std</th>\n",
       "      <td>118.088390</td>\n",
       "      <td>5432.430404</td>\n",
       "      <td>0.0</td>\n",
       "      <td>33065.426837</td>\n",
       "      <td>1.62107</td>\n",
       "      <td>1.154163</td>\n",
       "    </tr>\n",
       "    <tr>\n",
       "      <th>min</th>\n",
       "      <td>214.000000</td>\n",
       "      <td>11000.000000</td>\n",
       "      <td>1.0</td>\n",
       "      <td>10000.000000</td>\n",
       "      <td>0.00000</td>\n",
       "      <td>0.000000</td>\n",
       "    </tr>\n",
       "    <tr>\n",
       "      <th>25%</th>\n",
       "      <td>359.000000</td>\n",
       "      <td>14003.000000</td>\n",
       "      <td>1.0</td>\n",
       "      <td>30000.000000</td>\n",
       "      <td>0.00000</td>\n",
       "      <td>1.000000</td>\n",
       "    </tr>\n",
       "    <tr>\n",
       "      <th>50%</th>\n",
       "      <td>479.000000</td>\n",
       "      <td>18143.000000</td>\n",
       "      <td>1.0</td>\n",
       "      <td>60000.000000</td>\n",
       "      <td>2.00000</td>\n",
       "      <td>2.000000</td>\n",
       "    </tr>\n",
       "    <tr>\n",
       "      <th>75%</th>\n",
       "      <td>529.000000</td>\n",
       "      <td>23429.750000</td>\n",
       "      <td>1.0</td>\n",
       "      <td>80000.000000</td>\n",
       "      <td>3.00000</td>\n",
       "      <td>2.000000</td>\n",
       "    </tr>\n",
       "    <tr>\n",
       "      <th>max</th>\n",
       "      <td>606.000000</td>\n",
       "      <td>29483.000000</td>\n",
       "      <td>1.0</td>\n",
       "      <td>170000.000000</td>\n",
       "      <td>5.00000</td>\n",
       "      <td>4.000000</td>\n",
       "    </tr>\n",
       "  </tbody>\n",
       "</table>\n",
       "</div>"
      ],
      "text/plain": [
       "          ProductID    CustomerID  OrderVol   YearlyIncome  TotalChildren  \\\n",
       "count  60398.000000  60398.000000   60398.0   60398.000000    60398.00000   \n",
       "mean     437.557932  18841.685420       1.0   59715.056790        1.85074   \n",
       "std      118.088390   5432.430404       0.0   33065.426837        1.62107   \n",
       "min      214.000000  11000.000000       1.0   10000.000000        0.00000   \n",
       "25%      359.000000  14003.000000       1.0   30000.000000        0.00000   \n",
       "50%      479.000000  18143.000000       1.0   60000.000000        2.00000   \n",
       "75%      529.000000  23429.750000       1.0   80000.000000        3.00000   \n",
       "max      606.000000  29483.000000       1.0  170000.000000        5.00000   \n",
       "\n",
       "       NumberCarsOwned  \n",
       "count     60398.000000  \n",
       "mean          1.509189  \n",
       "std           1.154163  \n",
       "min           0.000000  \n",
       "25%           1.000000  \n",
       "50%           2.000000  \n",
       "75%           2.000000  \n",
       "max           4.000000  "
      ]
     },
     "execution_count": 25,
     "metadata": {},
     "output_type": "execute_result"
    }
   ],
   "source": [
    "internet_sales.describe()"
   ]
  },
  {
   "cell_type": "code",
   "execution_count": null,
   "metadata": {},
   "outputs": [],
   "source": [
    "#BW dropped below line as doesn't do anything, no missing data as already stated\n",
    "#internet_sales = internet_sales.loc[pd.isnull(internet_sales.CustomerID) == False]"
   ]
  },
  {
   "cell_type": "code",
   "execution_count": 26,
   "metadata": {},
   "outputs": [],
   "source": [
    "# Now, we create a product look up table that keep tracks of each product ID along with its name\n",
    "product_lookup = internet_sales[['ProductID', 'ProductName']].drop_duplicates() # Only get unique product/description pairs\n",
    "product_lookup['ProductID'] = product_lookup.ProductID.astype(str) # Encode as strings for future lookup ease"
   ]
  },
  {
   "cell_type": "code",
   "execution_count": 27,
   "metadata": {},
   "outputs": [
    {
     "data": {
      "text/html": [
       "<div>\n",
       "<style scoped>\n",
       "    .dataframe tbody tr th:only-of-type {\n",
       "        vertical-align: middle;\n",
       "    }\n",
       "\n",
       "    .dataframe tbody tr th {\n",
       "        vertical-align: top;\n",
       "    }\n",
       "\n",
       "    .dataframe thead th {\n",
       "        text-align: right;\n",
       "    }\n",
       "</style>\n",
       "<table border=\"1\" class=\"dataframe\">\n",
       "  <thead>\n",
       "    <tr style=\"text-align: right;\">\n",
       "      <th></th>\n",
       "      <th>ProductID</th>\n",
       "      <th>ProductName</th>\n",
       "    </tr>\n",
       "  </thead>\n",
       "  <tbody>\n",
       "    <tr>\n",
       "      <th>0</th>\n",
       "      <td>310</td>\n",
       "      <td>Road-150 Red, 62</td>\n",
       "    </tr>\n",
       "    <tr>\n",
       "      <th>1</th>\n",
       "      <td>346</td>\n",
       "      <td>Mountain-100 Silver, 44</td>\n",
       "    </tr>\n",
       "    <tr>\n",
       "      <th>3</th>\n",
       "      <td>336</td>\n",
       "      <td>Road-650 Black, 62</td>\n",
       "    </tr>\n",
       "    <tr>\n",
       "      <th>5</th>\n",
       "      <td>311</td>\n",
       "      <td>Road-150 Red, 44</td>\n",
       "    </tr>\n",
       "    <tr>\n",
       "      <th>7</th>\n",
       "      <td>351</td>\n",
       "      <td>Mountain-100 Black, 48</td>\n",
       "    </tr>\n",
       "  </tbody>\n",
       "</table>\n",
       "</div>"
      ],
      "text/plain": [
       "  ProductID              ProductName\n",
       "0       310         Road-150 Red, 62\n",
       "1       346  Mountain-100 Silver, 44\n",
       "3       336       Road-650 Black, 62\n",
       "5       311         Road-150 Red, 44\n",
       "7       351   Mountain-100 Black, 48"
      ]
     },
     "execution_count": 27,
     "metadata": {},
     "output_type": "execute_result"
    }
   ],
   "source": [
    "product_lookup.head()"
   ]
  },
  {
   "cell_type": "code",
   "execution_count": 28,
   "metadata": {},
   "outputs": [
    {
     "data": {
      "text/plain": [
       "(158, 2)"
      ]
     },
     "execution_count": 28,
     "metadata": {},
     "output_type": "execute_result"
    }
   ],
   "source": [
    "#and high level stats again\n",
    "product_lookup.shape"
   ]
  },
  {
   "cell_type": "code",
   "execution_count": 29,
   "metadata": {},
   "outputs": [
    {
     "data": {
      "text/plain": [
       "ProductID      object\n",
       "ProductName    object\n",
       "dtype: object"
      ]
     },
     "execution_count": 29,
     "metadata": {},
     "output_type": "execute_result"
    }
   ],
   "source": [
    "product_lookup.dtypes"
   ]
  },
  {
   "cell_type": "code",
   "execution_count": 30,
   "metadata": {},
   "outputs": [
    {
     "data": {
      "text/html": [
       "<div>\n",
       "<style scoped>\n",
       "    .dataframe tbody tr th:only-of-type {\n",
       "        vertical-align: middle;\n",
       "    }\n",
       "\n",
       "    .dataframe tbody tr th {\n",
       "        vertical-align: top;\n",
       "    }\n",
       "\n",
       "    .dataframe thead th {\n",
       "        text-align: right;\n",
       "    }\n",
       "</style>\n",
       "<table border=\"1\" class=\"dataframe\">\n",
       "  <thead>\n",
       "    <tr style=\"text-align: right;\">\n",
       "      <th></th>\n",
       "      <th>ProductID</th>\n",
       "      <th>ProductName</th>\n",
       "    </tr>\n",
       "  </thead>\n",
       "  <tbody>\n",
       "    <tr>\n",
       "      <th>count</th>\n",
       "      <td>158</td>\n",
       "      <td>158</td>\n",
       "    </tr>\n",
       "    <tr>\n",
       "      <th>unique</th>\n",
       "      <td>158</td>\n",
       "      <td>130</td>\n",
       "    </tr>\n",
       "    <tr>\n",
       "      <th>top</th>\n",
       "      <td>593</td>\n",
       "      <td>Road-550-W Yellow, 44</td>\n",
       "    </tr>\n",
       "    <tr>\n",
       "      <th>freq</th>\n",
       "      <td>1</td>\n",
       "      <td>2</td>\n",
       "    </tr>\n",
       "  </tbody>\n",
       "</table>\n",
       "</div>"
      ],
      "text/plain": [
       "       ProductID            ProductName\n",
       "count        158                    158\n",
       "unique       158                    130\n",
       "top          593  Road-550-W Yellow, 44\n",
       "freq           1                      2"
      ]
     },
     "execution_count": 30,
     "metadata": {},
     "output_type": "execute_result"
    }
   ],
   "source": [
    "product_lookup.describe()\n",
    "\n",
    "#*check* there are 130 unique products, but 158 product mappings in the dataset due to variations in standard cost/list price of some products "
   ]
  },
  {
   "cell_type": "code",
   "execution_count": 31,
   "metadata": {},
   "outputs": [],
   "source": [
    "#now prepare the dataframe for modelling later - we want customerID, ProductID and OrderVol only\n",
    "\n",
    "internet_sales['CustomerID'] = internet_sales.CustomerID.astype(int) # Convert to int for customer ID\n",
    "internet_sales = internet_sales[['ProductID', 'CustomerID', 'OrderVol']] # Focus only on ProductID, CustomerID and OrderVol\n",
    "grouped_cleaned = internet_sales.groupby(['CustomerID', 'ProductID']).sum().reset_index() # Group together \n",
    "#*check above should still maintain same number of rows of original dataset\n",
    "#*check also - might want to name 'grouped' only, or 'reduced' as hasn't really been 'cleaned'\n",
    "\n",
    "#BW removed below - there aren't\n",
    "#grouped_cleaned.Quantity.loc[grouped_cleaned.Quantity == 0] = 1 # Replace a sum of zero purchases with a one to\n",
    "# indicate purchased\n",
    "#grouped_cleaned = grouped_cleaned.query('Quantity > 0') # Only get customers where purchase totals were positive"
   ]
  },
  {
   "cell_type": "code",
   "execution_count": 32,
   "metadata": {},
   "outputs": [
    {
     "data": {
      "text/html": [
       "<div>\n",
       "<style scoped>\n",
       "    .dataframe tbody tr th:only-of-type {\n",
       "        vertical-align: middle;\n",
       "    }\n",
       "\n",
       "    .dataframe tbody tr th {\n",
       "        vertical-align: top;\n",
       "    }\n",
       "\n",
       "    .dataframe thead th {\n",
       "        text-align: right;\n",
       "    }\n",
       "</style>\n",
       "<table border=\"1\" class=\"dataframe\">\n",
       "  <thead>\n",
       "    <tr style=\"text-align: right;\">\n",
       "      <th></th>\n",
       "      <th>CustomerID</th>\n",
       "      <th>ProductID</th>\n",
       "      <th>OrderVol</th>\n",
       "    </tr>\n",
       "  </thead>\n",
       "  <tbody>\n",
       "    <tr>\n",
       "      <th>0</th>\n",
       "      <td>11000</td>\n",
       "      <td>214</td>\n",
       "      <td>1</td>\n",
       "    </tr>\n",
       "    <tr>\n",
       "      <th>1</th>\n",
       "      <td>11000</td>\n",
       "      <td>344</td>\n",
       "      <td>1</td>\n",
       "    </tr>\n",
       "    <tr>\n",
       "      <th>2</th>\n",
       "      <td>11000</td>\n",
       "      <td>353</td>\n",
       "      <td>1</td>\n",
       "    </tr>\n",
       "    <tr>\n",
       "      <th>3</th>\n",
       "      <td>11000</td>\n",
       "      <td>485</td>\n",
       "      <td>1</td>\n",
       "    </tr>\n",
       "    <tr>\n",
       "      <th>4</th>\n",
       "      <td>11000</td>\n",
       "      <td>488</td>\n",
       "      <td>1</td>\n",
       "    </tr>\n",
       "  </tbody>\n",
       "</table>\n",
       "</div>"
      ],
      "text/plain": [
       "   CustomerID  ProductID  OrderVol\n",
       "0       11000        214         1\n",
       "1       11000        344         1\n",
       "2       11000        353         1\n",
       "3       11000        485         1\n",
       "4       11000        488         1"
      ]
     },
     "execution_count": 32,
     "metadata": {},
     "output_type": "execute_result"
    }
   ],
   "source": [
    "grouped_cleaned.head()"
   ]
  },
  {
   "cell_type": "code",
   "execution_count": 33,
   "metadata": {},
   "outputs": [
    {
     "data": {
      "text/html": [
       "<div>\n",
       "<style scoped>\n",
       "    .dataframe tbody tr th:only-of-type {\n",
       "        vertical-align: middle;\n",
       "    }\n",
       "\n",
       "    .dataframe tbody tr th {\n",
       "        vertical-align: top;\n",
       "    }\n",
       "\n",
       "    .dataframe thead th {\n",
       "        text-align: right;\n",
       "    }\n",
       "</style>\n",
       "<table border=\"1\" class=\"dataframe\">\n",
       "  <thead>\n",
       "    <tr style=\"text-align: right;\">\n",
       "      <th></th>\n",
       "      <th>CustomerID</th>\n",
       "      <th>ProductID</th>\n",
       "      <th>OrderVol</th>\n",
       "    </tr>\n",
       "  </thead>\n",
       "  <tbody>\n",
       "  </tbody>\n",
       "</table>\n",
       "</div>"
      ],
      "text/plain": [
       "Empty DataFrame\n",
       "Columns: [CustomerID, ProductID, OrderVol]\n",
       "Index: []"
      ]
     },
     "execution_count": 33,
     "metadata": {},
     "output_type": "execute_result"
    }
   ],
   "source": [
    "#check no zero or negative purchases\n",
    "grouped_cleaned.loc[grouped_cleaned.OrderVol <= 0]"
   ]
  },
  {
   "cell_type": "code",
   "execution_count": 34,
   "metadata": {},
   "outputs": [
    {
     "name": "stdout",
     "output_type": "stream",
     "text": [
      "<class 'pandas.core.frame.DataFrame'>\n",
      "RangeIndex: 59051 entries, 0 to 59050\n",
      "Data columns (total 3 columns):\n",
      "CustomerID    59051 non-null int64\n",
      "ProductID     59051 non-null int64\n",
      "OrderVol      59051 non-null int64\n",
      "dtypes: int64(3)\n",
      "memory usage: 1.4 MB\n"
     ]
    }
   ],
   "source": [
    "grouped_cleaned.info()"
   ]
  },
  {
   "cell_type": "code",
   "execution_count": 35,
   "metadata": {},
   "outputs": [],
   "source": [
    "grouped_cleaned['ProductID'] = grouped_cleaned['ProductID'].astype(str) #convert ProductID to string"
   ]
  },
  {
   "cell_type": "code",
   "execution_count": 36,
   "metadata": {},
   "outputs": [
    {
     "name": "stdout",
     "output_type": "stream",
     "text": [
      "<class 'pandas.core.frame.DataFrame'>\n",
      "RangeIndex: 59051 entries, 0 to 59050\n",
      "Data columns (total 3 columns):\n",
      "CustomerID    59051 non-null int64\n",
      "ProductID     59051 non-null object\n",
      "OrderVol      59051 non-null int64\n",
      "dtypes: int64(2), object(1)\n",
      "memory usage: 1.4+ MB\n"
     ]
    }
   ],
   "source": [
    "grouped_cleaned.info()"
   ]
  },
  {
   "cell_type": "markdown",
   "metadata": {},
   "source": [
    "## Sparse Confidence Matrix"
   ]
  },
  {
   "cell_type": "code",
   "execution_count": 37,
   "metadata": {},
   "outputs": [],
   "source": [
    "# We don't have explicit customer \"ratings\" (cf Netflix/Amazon movie/product ratings), but the order volume can represent a \"confidence\" in terms \n",
    "# of how strong the interaction was."
   ]
  },
  {
   "cell_type": "code",
   "execution_count": 38,
   "metadata": {},
   "outputs": [
    {
     "name": "stderr",
     "output_type": "stream",
     "text": [
      "C:\\Users\\EO\\Anaconda3\\lib\\site-packages\\ipykernel_launcher.py:6: FutureWarning: specifying 'categories' or 'ordered' in .astype() is deprecated; pass a CategoricalDtype instead\n",
      "  \n",
      "C:\\Users\\EO\\Anaconda3\\lib\\site-packages\\ipykernel_launcher.py:8: FutureWarning: specifying 'categories' or 'ordered' in .astype() is deprecated; pass a CategoricalDtype instead\n",
      "  \n"
     ]
    }
   ],
   "source": [
    "### Create a sparse confidence matrix of customers and products\n",
    "customers = list(np.sort(grouped_cleaned.CustomerID.unique())) # Get our unique customers\n",
    "products = list(grouped_cleaned.ProductID.unique()) # Get our unique products that were purchased\n",
    "quantity = list(grouped_cleaned.OrderVol) # All of our purchases\n",
    "\n",
    "rows = grouped_cleaned.CustomerID.astype('category', categories = customers).cat.codes \n",
    "# Get the associated row indices\n",
    "cols = grouped_cleaned.ProductID.astype('category', categories = products).cat.codes \n",
    "# Get the associated column indices\n",
    "purchases_sparse = sparse.csr_matrix((quantity, (rows, cols)), shape=(len(customers), len(products)))"
   ]
  },
  {
   "cell_type": "code",
   "execution_count": 39,
   "metadata": {},
   "outputs": [
    {
     "name": "stdout",
     "output_type": "stream",
     "text": [
      "18484\n",
      "158\n"
     ]
    }
   ],
   "source": [
    "#more checks\n",
    "print(len(customers))\n",
    "print(len(products))"
   ]
  },
  {
   "cell_type": "code",
   "execution_count": 40,
   "metadata": {},
   "outputs": [
    {
     "data": {
      "text/plain": [
       "<18484x158 sparse matrix of type '<class 'numpy.int32'>'\n",
       "\twith 59051 stored elements in Compressed Sparse Row format>"
      ]
     },
     "execution_count": 40,
     "metadata": {},
     "output_type": "execute_result"
    }
   ],
   "source": [
    "# Check the matrix\n",
    "purchases_sparse"
   ]
  },
  {
   "cell_type": "code",
   "execution_count": 41,
   "metadata": {},
   "outputs": [
    {
     "data": {
      "text/plain": [
       "97.97803231806365"
      ]
     },
     "execution_count": 41,
     "metadata": {},
     "output_type": "execute_result"
    }
   ],
   "source": [
    "# Based on the unfiltered data set, we have 18484 unique customers with 158 unique products. For these customer/product interactions, 59051 of these products had a purchase. In terms of\n",
    "# sparsity of the matrix, that makes:\n",
    "matrix_size = purchases_sparse.shape[0]*purchases_sparse.shape[1] # Number of possible interactions in the matrix\n",
    "num_purchases = len(purchases_sparse.nonzero()[0]) # Number of products interacted with\n",
    "sparsity = 100*(1 - (num_purchases/matrix_size))\n",
    "sparsity"
   ]
  },
  {
   "cell_type": "markdown",
   "metadata": {},
   "source": [
    "### Training/validating customer/product interactions - matrix factorisation"
   ]
  },
  {
   "cell_type": "code",
   "execution_count": 42,
   "metadata": {},
   "outputs": [],
   "source": [
    "# We'll use a random function to separate our training and testing sets.\n",
    "import random"
   ]
  },
  {
   "cell_type": "code",
   "execution_count": 43,
   "metadata": {},
   "outputs": [],
   "source": [
    "def make_train(confidence, pct_test = 0.2):\n",
    "    '''\n",
    "    This function will take in the original customer-product matrix and \"mask\" a percentage of the original confidence where a\n",
    "    customer-product interaction has taken place for use as a test set. The test set will contain all of the original confidence, \n",
    "    while the training set replaces the specified percentage of them with a zero in the original confidence matrix. \n",
    "    \n",
    "    parameters: \n",
    "    \n",
    "    confidence - the original confidence matrix from which you want to generate a train/test set. Test is just a complete\n",
    "    copy of the original set. This is in the form of a sparse csr_matrix. \n",
    "    \n",
    "    pct_test - The percentage of customer-product interactions where an interaction took place that you want to mask in the \n",
    "    training set for later comparison to the test set, which contains all of the original confidence. \n",
    "    \n",
    "    returns:\n",
    "    \n",
    "    training_set - The altered version of the original data with a certain percentage of the customer-product pairs \n",
    "    that originally had interaction set back to zero.\n",
    "    \n",
    "    test_set - A copy of the original confidence matrix, unaltered, so it can be used to see how the rank order \n",
    "    compares with the actual interactions.\n",
    "    \n",
    "    customer_inds - From the randomly selected customer-product indices, which customer rows were altered in the training data.\n",
    "    This will be necessary later when evaluating the performance via AUC.\n",
    "    '''\n",
    "    test_set = confidence.copy() # Make a copy of the original set to be the test set. \n",
    "    test_set[test_set != 0] = 1 # Store the test set as a binary preference matrix\n",
    "    training_set = confidence.copy() # Make a copy of the original data we can alter as our training set. \n",
    "    nonzero_inds = training_set.nonzero() # Find the indices in the confidence data where an interaction exists\n",
    "    nonzero_pairs = list(zip(nonzero_inds[0], nonzero_inds[1])) # Zip these pairs together of customer,product index into list\n",
    "    random.seed(0) # Set the random seed to zero for reproducibility\n",
    "    num_samples = int(np.ceil(pct_test*len(nonzero_pairs))) # Round the number of samples needed to the nearest integer\n",
    "    samples = random.sample(nonzero_pairs, num_samples) # Sample a random number of customer-product pairs without replacement\n",
    "    customer_inds = [index[0] for index in samples] # Get the customer row indices\n",
    "    product_inds = [index[1] for index in samples] # Get the product column indices\n",
    "    training_set[customer_inds, product_inds] = 0 # Assign all of the randomly chosen customer-product pairs to zero\n",
    "    training_set.eliminate_zeros() # Get rid of zeros in sparse array storage after update to save space\n",
    "    return training_set, test_set, list(set(customer_inds)) # Output the unique list of customer rows that were altered"
   ]
  },
  {
   "cell_type": "code",
   "execution_count": 44,
   "metadata": {},
   "outputs": [],
   "source": [
    "# Now, we mask 20% of the customer/product interactions.\n",
    "product_train, product_test, product_customers_altered = make_train(purchases_sparse, pct_test = 0.2)"
   ]
  },
  {
   "cell_type": "markdown",
   "metadata": {},
   "source": [
    "### Implementing ALS for Implicit Feedback based collaborative filtering"
   ]
  },
  {
   "cell_type": "code",
   "execution_count": 45,
   "metadata": {},
   "outputs": [],
   "source": [
    "def implicit_weighted_ALS(training_set, lambda_val = 0.1, alpha = 40, iterations = 10, rank_size = 20, seed = 0):\n",
    "    '''\n",
    "    Implicit weighted ALS taken from Hu, Koren, and Volinsky 2008. Designed for alternating least squares and implicit\n",
    "    feedback based collaborative filtering. \n",
    "    \n",
    "    parameters:\n",
    "    \n",
    "    training_set - Our matrix of confidence with shape m x n, where m is the number of customers and n is the number of products.\n",
    "    Should be a sparse csr matrix to save space. \n",
    "    \n",
    "    lambda_val - Used for regularization during alternating least squares. Increasing this value may increase bias\n",
    "    but decrease variance. Default is 0.1. \n",
    "    \n",
    "    alpha - The parameter associated with the confidence matrix discussed in the paper, where Cui = 1 + alpha*Rui. \n",
    "    The paper found a default of 40 most effective. Decreasing this will decrease the variability in confidence between\n",
    "    various confidence.\n",
    "    \n",
    "    iterations - The number of times to alternate between both customer feature vector and product feature vector in\n",
    "    alternating least squares. More iterations will allow better convergence at the cost of increased computation. \n",
    "    The authors found 10 iterations was sufficient, but more may be required to converge. \n",
    "    \n",
    "    rank_size - The number of latent features in the customer/product feature vectors. The paper recommends varying this \n",
    "    between 20-200. Increasing the number of features may overfit but could reduce bias. \n",
    "    \n",
    "    seed - Set the seed for reproducible results\n",
    "    \n",
    "    returns:\n",
    "    \n",
    "    The feature vectors for customers and products. The dot product of these feature vectors should give you the expected \n",
    "    \"rating\" at each point in your original matrix. \n",
    "    '''\n",
    "    \n",
    "    # first set up our confidence matrix\n",
    "    \n",
    "    conf = (alpha*training_set) # To allow the matrix to stay sparse, I will add one later when each row is taken \n",
    "                                # and converted to dense. \n",
    "    num_customer = conf.shape[0]\n",
    "    num_product = conf.shape[1] # Get the size of our original confidence matrix, m x n\n",
    "    \n",
    "    # initialize our X/Y feature vectors randomly with a set seed\n",
    "    rstate = np.random.RandomState(seed)\n",
    "    \n",
    "    X = sparse.csr_matrix(rstate.normal(size = (num_customer, rank_size))) # Random numbers in a m x rank shape\n",
    "    Y = sparse.csr_matrix(rstate.normal(size = (num_product, rank_size))) # Normally this would be rank x n but we can \n",
    "                                                                 # transpose at the end. Makes calculation more simple.\n",
    "    X_eye = sparse.eye(num_customer)\n",
    "    Y_eye = sparse.eye(num_product)\n",
    "    lambda_eye = lambda_val * sparse.eye(rank_size) # Our regularization term lambda*I. \n",
    "    \n",
    "    # We can compute this before iteration starts. \n",
    "    \n",
    "    # Begin iterations\n",
    "   \n",
    "    for iter_step in range(iterations): # Iterate back and forth between solving X given fixed Y and vice versa\n",
    "        # Compute yTy and xTx at beginning of each iteration to save computing time\n",
    "        yTy = Y.T.dot(Y)\n",
    "        xTx = X.T.dot(X)\n",
    "        # Being iteration to solve for X based on fixed Y\n",
    "        for u in range(num_customer):\n",
    "            conf_samp = conf[u,:].toarray() # Grab customer row from confidence matrix and convert to dense\n",
    "            pref = conf_samp.copy() \n",
    "            pref[pref != 0] = 1 # Create binarized preference vector \n",
    "            CuI = sparse.diags(conf_samp, [0]) # Get Cu - I term, don't need to subtract 1 since we never added it \n",
    "            yTCuIY = Y.T.dot(CuI).dot(Y) # This is the yT(Cu-I)Y term \n",
    "            yTCupu = Y.T.dot(CuI + Y_eye).dot(pref.T) # This is the yTCuPu term, where we add the eye back in\n",
    "                                                      # Cu - I + I = Cu\n",
    "            X[u] = spsolve(yTy + yTCuIY + lambda_eye, yTCupu) \n",
    "            # Solve for Xu = ((yTy + yT(Cu-I)Y + lambda*I)^-1)yTCuPu, equation 4 from the paper  \n",
    "        # Begin iteration to solve for Y based on fixed X \n",
    "        for i in range(num_product):\n",
    "            conf_samp = conf[:,i].T.toarray() # transpose to get it in row format and convert to dense\n",
    "            pref = conf_samp.copy()\n",
    "            pref[pref != 0] = 1 # Create binarized preference vector\n",
    "            CiI = sparse.diags(conf_samp, [0]) # Get Ci - I term, don't need to subtract 1 since we never added it\n",
    "            xTCiIX = X.T.dot(CiI).dot(X) # This is the xT(Cu-I)X term\n",
    "            xTCiPi = X.T.dot(CiI + X_eye).dot(pref.T) # This is the xTCiPi term\n",
    "            Y[i] = spsolve(xTx + xTCiIX + lambda_eye, xTCiPi)\n",
    "            # Solve for Yi = ((xTx + xT(Cu-I)X) + lambda*I)^-1)xTCiPi, equation 5 from the paper\n",
    "    # End iterations\n",
    "    return X, Y.T # Transpose at the end to make up for not being transposed at the beginning. \n",
    "                         # Y needs to be rank x n. Keep these as separate matrices for scale reasons. "
   ]
  },
  {
   "cell_type": "code",
   "execution_count": 46,
   "metadata": {},
   "outputs": [],
   "source": [
    "#*check* this takes a long time\n",
    "#*check still need to run with 15 iterations\n",
    "customer_vecs, product_vecs = implicit_weighted_ALS(product_train, lambda_val = 0.1, alpha = 15, iterations = 1,\n",
    "                                            rank_size = 20)"
   ]
  },
  {
   "cell_type": "markdown",
   "metadata": {},
   "source": [
    "### We can investigate confidence for a particular customer by taking the dot product between the customer and product vectors.\n",
    "### Let’s look at our first customer."
   ]
  },
  {
   "cell_type": "code",
   "execution_count": 47,
   "metadata": {},
   "outputs": [
    {
     "data": {
      "text/plain": [
       "array([5.24299219e-02, 9.85570586e-05, 1.25361284e-02, 3.89815739e-02,\n",
       "       7.83943702e-03])"
      ]
     },
     "execution_count": 47,
     "metadata": {},
     "output_type": "execute_result"
    }
   ],
   "source": [
    "customer_vecs[0,:].dot(product_vecs).toarray()[0,:5]"
   ]
  },
  {
   "cell_type": "markdown",
   "metadata": {},
   "source": [
    "## Making ALS faster"
   ]
  },
  {
   "cell_type": "code",
   "execution_count": 48,
   "metadata": {},
   "outputs": [],
   "source": [
    "# As our algorithm is very parallel, we can use ALS for Python utilizing Cython and parallelizing the code among threads.\n",
    "import implicit"
   ]
  },
  {
   "cell_type": "code",
   "execution_count": 49,
   "metadata": {},
   "outputs": [
    {
     "name": "stderr",
     "output_type": "stream",
     "text": [
      "This method is deprecated. Please use the AlternatingLeastSquares class instead\n",
      "WARNING:root:Intel MKL BLAS detected. Its highly recommend to set the environment variable 'export MKL_NUM_THREADS=1' to disable its internal multithreading\n",
      "100%|██████████| 50.0/50 [00:03<00:00, 14.16it/s]\n"
     ]
    }
   ],
   "source": [
    "alpha = 15\n",
    "customer_vecs, product_vecs = implicit.alternating_least_squares((product_train*alpha).astype('double'), \n",
    "                                                          factors=20, \n",
    "                                                          regularization = 0.1, \n",
    "                                                         iterations = 50)"
   ]
  },
  {
   "cell_type": "markdown",
   "metadata": {},
   "source": [
    "## Evaluation of Reommendation Engine"
   ]
  },
  {
   "cell_type": "code",
   "execution_count": 50,
   "metadata": {},
   "outputs": [],
   "source": [
    "from sklearn import metrics"
   ]
  },
  {
   "cell_type": "code",
   "execution_count": 51,
   "metadata": {},
   "outputs": [],
   "source": [
    "def auc_score(predictions, test):\n",
    "    '''\n",
    "    This simple function will output the area under the curve using sklearn's metrics. \n",
    "    \n",
    "    parameters:\n",
    "    \n",
    "    - predictions: your prediction output\n",
    "    \n",
    "    - test: the actual target result you are comparing to\n",
    "    \n",
    "    returns:\n",
    "    \n",
    "    - AUC (area under the Receiver Operating Characterisic curve)\n",
    "    '''\n",
    "    fpr, tpr, thresholds = metrics.roc_curve(test, predictions)\n",
    "    return metrics.auc(fpr, tpr)   "
   ]
  },
  {
   "cell_type": "code",
   "execution_count": 52,
   "metadata": {},
   "outputs": [],
   "source": [
    "def calc_mean_auc(training_set, altered_customers, predictions, test_set):\n",
    "    '''\n",
    "    This function will calculate the mean AUC by customer for any customer that had their customer-product matrix altered. \n",
    "    \n",
    "    parameters:\n",
    "    \n",
    "    training_set - The training set resulting from make_train, where a certain percentage of the original\n",
    "    customer/product interactions are reset to zero to hide them from the model \n",
    "    \n",
    "    predictions - The matrix of your predicted confidence for each customer/product pair as output from the implicit MF.\n",
    "    These should be stored in a list, with customer vectors as product zero and product vectors as product one. \n",
    "    \n",
    "    altered_customers - The indices of the customers where at least one customer/product pair was altered from make_train function\n",
    "    \n",
    "    test_set - The test set constucted earlier from make_train function\n",
    "    \n",
    "    \n",
    "    \n",
    "    returns:\n",
    "    \n",
    "    The mean AUC (area under the Receiver Operator Characteristic curve) of the test set only on customer-product interactions\n",
    "    there were originally zero to test ranking ability in addition to the most popular products as a benchmark.\n",
    "    '''\n",
    "    \n",
    "    \n",
    "    store_auc = [] # An empty list to store the AUC for each customer that had an product removed from the training set\n",
    "    popularity_auc = [] # To store popular AUC scores\n",
    "    pop_products = np.array(test_set.sum(axis = 0)).reshape(-1) # Get sum of product iteractions to find most popular\n",
    "    product_vecs = predictions[1]\n",
    "    for customer in altered_customers: # Iterate through each customer that had an product altered\n",
    "        training_row = training_set[customer,:].toarray().reshape(-1) # Get the training set row\n",
    "        zero_inds = np.where(training_row == 0) # Find where the interaction had not yet occurred\n",
    "        # Get the predicted values based on our customer/product vectors\n",
    "        customer_vec = predictions[0][customer,:]\n",
    "        pred = customer_vec.dot(product_vecs).toarray()[0,zero_inds].reshape(-1)\n",
    "        # Get only the products that were originally zero\n",
    "        # Select all confidence from the MF prediction for this customer that originally had no iteraction\n",
    "        actual = test_set[customer,:].toarray()[0,zero_inds].reshape(-1) \n",
    "        # Select the binarized yes/no interaction pairs from the original full data\n",
    "        # that align with the same pairs in training \n",
    "        pop = pop_products[zero_inds] # Get the product popularity for our chosen products\n",
    "        store_auc.append(auc_score(pred, actual)) # Calculate AUC for the given customer and store\n",
    "        popularity_auc.append(auc_score(pop, actual)) # Calculate AUC using most popular and score\n",
    "    # End customers iteration\n",
    "    \n",
    "    return float('%.3f'%np.mean(store_auc)), float('%.3f'%np.mean(popularity_auc))  \n",
    "   # Return the mean AUC rounded to three decimal places for both test and popularity benchmark"
   ]
  },
  {
   "cell_type": "code",
   "execution_count": 53,
   "metadata": {},
   "outputs": [
    {
     "data": {
      "text/plain": [
       "(0.773, 0.836)"
      ]
     },
     "execution_count": 53,
     "metadata": {},
     "output_type": "execute_result"
    }
   ],
   "source": [
    "calc_mean_auc(product_train, product_customers_altered, \n",
    "              [sparse.csr_matrix(customer_vecs), sparse.csr_matrix(product_vecs.T)], product_test)\n",
    "# AUC for our recommender system"
   ]
  },
  {
   "cell_type": "markdown",
   "metadata": {},
   "source": [
    "- First measure is the \"collaborative filtering\" method, where recommendation are based on similar products\n",
    "- purchased by other customers\n",
    "\n",
    "\n",
    "- Popularity measure is recommending the most popular products instead of \"similar\" products bought by other customers\n",
    "\n",
    "- *check* in both cases these metrics are pretty good, reading AUC as a confidence level suggests the recommendations are \n",
    "- in general what the customer is buying most of the time, but the fact the recommending most popular products beats\n",
    "- similar product recommendations suggests collaborative filtering in this case doesnt have any business value "
   ]
  },
  {
   "cell_type": "code",
   "execution_count": 54,
   "metadata": {},
   "outputs": [],
   "source": [
    "customers_arr = np.array(customers) # Array of customer IDs from the confidence matrix\n",
    "products_arr = np.array(products) # Array of product IDs from the confidence matrix"
   ]
  },
  {
   "cell_type": "code",
   "execution_count": 55,
   "metadata": {},
   "outputs": [
    {
     "data": {
      "text/plain": [
       "(18484,)"
      ]
     },
     "execution_count": 55,
     "metadata": {},
     "output_type": "execute_result"
    }
   ],
   "source": [
    "#some checks as we havent looked for a while\n",
    "#some high level stats\n",
    "customers_arr.shape"
   ]
  },
  {
   "cell_type": "code",
   "execution_count": 56,
   "metadata": {},
   "outputs": [
    {
     "data": {
      "text/plain": [
       "(158,)"
      ]
     },
     "execution_count": 56,
     "metadata": {},
     "output_type": "execute_result"
    }
   ],
   "source": [
    "products_arr.shape"
   ]
  },
  {
   "cell_type": "code",
   "execution_count": 57,
   "metadata": {},
   "outputs": [],
   "source": [
    "def get_products_purchased(customer_id, mf_train, customers_list, products_list, product_lookup):\n",
    "    '''\n",
    "    This just tells us which products have been already purchased by a specific customer in the training set. \n",
    "    \n",
    "    parameters: \n",
    "    \n",
    "    customer_id - Input the customer's id number that you want to see prior purchases of at least once\n",
    "    \n",
    "    mf_train - The initial confidence training set used (without weights applied)\n",
    "    \n",
    "    customers_list - The array of customers used in the confidence matrix\n",
    "    \n",
    "    products_list - The array of products used in the confidence matrix\n",
    "    \n",
    "    product_lookup - A simple pandas dataframe of the unique product ID/product descriptions available\n",
    "    \n",
    "    returns:\n",
    "    \n",
    "    A list of product IDs and product descriptions for a particular customer that were already purchased in the training set\n",
    "    '''\n",
    "    cust_ind = np.where(customers_list == customer_id)[0][0] # Returns the index row of our customer id\n",
    "    purchased_ind = mf_train[cust_ind,:].nonzero()[1] # Get column indices of purchased products\n",
    "    prod_codes = products_list[purchased_ind] # Get the stock codes for our purchased products\n",
    "    return product_lookup.loc[product_lookup.ProductID.isin(prod_codes)]"
   ]
  },
  {
   "cell_type": "code",
   "execution_count": 58,
   "metadata": {},
   "outputs": [
    {
     "data": {
      "text/plain": [
       "array([11000, 11001, 11002, 11003, 11004], dtype=int64)"
      ]
     },
     "execution_count": 58,
     "metadata": {},
     "output_type": "execute_result"
    }
   ],
   "source": [
    "customers_arr[:5]"
   ]
  },
  {
   "cell_type": "code",
   "execution_count": 59,
   "metadata": {},
   "outputs": [
    {
     "data": {
      "text/html": [
       "<div>\n",
       "<style scoped>\n",
       "    .dataframe tbody tr th:only-of-type {\n",
       "        vertical-align: middle;\n",
       "    }\n",
       "\n",
       "    .dataframe tbody tr th {\n",
       "        vertical-align: top;\n",
       "    }\n",
       "\n",
       "    .dataframe thead th {\n",
       "        text-align: right;\n",
       "    }\n",
       "</style>\n",
       "<table border=\"1\" class=\"dataframe\">\n",
       "  <thead>\n",
       "    <tr style=\"text-align: right;\">\n",
       "      <th></th>\n",
       "      <th>ProductID</th>\n",
       "      <th>ProductName</th>\n",
       "    </tr>\n",
       "  </thead>\n",
       "  <tbody>\n",
       "    <tr>\n",
       "      <th>5432</th>\n",
       "      <td>353</td>\n",
       "      <td>Mountain-200 Silver, 38</td>\n",
       "    </tr>\n",
       "    <tr>\n",
       "      <th>5442</th>\n",
       "      <td>214</td>\n",
       "      <td>Sport-100 Helmet, Red</td>\n",
       "    </tr>\n",
       "    <tr>\n",
       "      <th>5457</th>\n",
       "      <td>541</td>\n",
       "      <td>Touring Tire</td>\n",
       "    </tr>\n",
       "    <tr>\n",
       "      <th>5458</th>\n",
       "      <td>530</td>\n",
       "      <td>Touring Tire Tube</td>\n",
       "    </tr>\n",
       "    <tr>\n",
       "      <th>5459</th>\n",
       "      <td>573</td>\n",
       "      <td>Touring-1000 Blue, 46</td>\n",
       "    </tr>\n",
       "    <tr>\n",
       "      <th>5476</th>\n",
       "      <td>485</td>\n",
       "      <td>Fender Set - Mountain</td>\n",
       "    </tr>\n",
       "  </tbody>\n",
       "</table>\n",
       "</div>"
      ],
      "text/plain": [
       "     ProductID              ProductName\n",
       "5432       353  Mountain-200 Silver, 38\n",
       "5442       214    Sport-100 Helmet, Red\n",
       "5457       541             Touring Tire\n",
       "5458       530        Touring Tire Tube\n",
       "5459       573    Touring-1000 Blue, 46\n",
       "5476       485    Fender Set - Mountain"
      ]
     },
     "execution_count": 59,
     "metadata": {},
     "output_type": "execute_result"
    }
   ],
   "source": [
    "# Our first customer in the list has an id of 11000. Let's test the function.\n",
    "get_products_purchased(11000, product_train, customers_arr, products_arr, product_lookup)"
   ]
  },
  {
   "cell_type": "code",
   "execution_count": 60,
   "metadata": {},
   "outputs": [],
   "source": [
    "from sklearn.preprocessing import MinMaxScaler"
   ]
  },
  {
   "cell_type": "code",
   "execution_count": 61,
   "metadata": {},
   "outputs": [],
   "source": [
    "def rec_products(customer_id, mf_train, customer_vecs, product_vecs, customer_list, product_list, product_lookup, num_products = 10):\n",
    "    '''\n",
    "    This function will return the top recommended products to our customers \n",
    "    \n",
    "    parameters:\n",
    "    \n",
    "    customer_id - Input the customer's id number that you want to get recommendations for\n",
    "    \n",
    "    mf_train - The training matrix you used for matrix factorization fitting\n",
    "    \n",
    "    customer_vecs - the customer vectors from your fitted matrix factorization\n",
    "    \n",
    "    product_vecs - the product vectors from your fitted matrix factorization\n",
    "    \n",
    "    customer_list - an array of the customer's ID numbers that make up the rows of your confidence matrix \n",
    "                    (in order of matrix)\n",
    "    \n",
    "    product_list - an array of the products that make up the columns of your confidence matrix\n",
    "                    (in order of matrix)\n",
    "    \n",
    "    product_lookup - A simple pandas dataframe of the unique product ID/product descriptions available\n",
    "    \n",
    "    num_products - The number of products you want to recommend in order of best recommendations. Default is 10. \n",
    "    \n",
    "    returns:\n",
    "    \n",
    "    - The top n recommendations chosen based on the customer/product vectors for products never interacted with/purchased\n",
    "    '''\n",
    "    \n",
    "    cust_ind = np.where(customer_list == customer_id)[0][0] # Returns the index row of our customer id\n",
    "    pref_vec = mf_train[cust_ind,:].toarray() # Get the confidence from the training set confidence matrix\n",
    "    pref_vec = pref_vec.reshape(-1) + 1 # Add 1 to everything, so that products not purchased yet become equal to 1\n",
    "    pref_vec[pref_vec > 1] = 0 # Make everything already purchased zero\n",
    "    rec_vector = customer_vecs[cust_ind,:].dot(product_vecs.T) # Get dot product of customer vector and all product vectors\n",
    "    # Scale this recommendation vector between 0 and 1\n",
    "    min_max = MinMaxScaler()\n",
    "    rec_vector_scaled = min_max.fit_transform(rec_vector.reshape(-1,1))[:,0] \n",
    "    recommend_vector = pref_vec*rec_vector_scaled \n",
    "    # products already purchased have their recommendation multiplied by zero\n",
    "    product_idx = np.argsort(recommend_vector)[::-1][:num_products] # Sort the indices of the products into order \n",
    "    # of best recommendations\n",
    "    rec_list = [] # start empty list to store products\n",
    "    for index in product_idx:\n",
    "        code = product_list[index]\n",
    "        rec_list.append([code, product_lookup.ProductName.loc[product_lookup.ProductID == code].iloc[0]]) \n",
    "        # Append our descriptions to the list\n",
    "    codes = [product[0] for product in rec_list]\n",
    "    descriptions = [product[1] for product in rec_list]\n",
    "    final_frame = pd.DataFrame({'ProductID': codes, 'ProductName': descriptions}) # Create a dataframe \n",
    "    return final_frame[['ProductID', 'ProductName']] # Switch order of columns around\n"
   ]
  },
  {
   "cell_type": "code",
   "execution_count": 62,
   "metadata": {},
   "outputs": [
    {
     "name": "stdout",
     "output_type": "stream",
     "text": [
      "The top two recommended products are: \n",
      " Half-Finger Gloves, L and \n",
      " Mountain-200 Black, 46\n"
     ]
    },
    {
     "data": {
      "text/html": [
       "<div>\n",
       "<style scoped>\n",
       "    .dataframe tbody tr th:only-of-type {\n",
       "        vertical-align: middle;\n",
       "    }\n",
       "\n",
       "    .dataframe tbody tr th {\n",
       "        vertical-align: top;\n",
       "    }\n",
       "\n",
       "    .dataframe thead th {\n",
       "        text-align: right;\n",
       "    }\n",
       "</style>\n",
       "<table border=\"1\" class=\"dataframe\">\n",
       "  <thead>\n",
       "    <tr style=\"text-align: right;\">\n",
       "      <th></th>\n",
       "      <th>ProductID</th>\n",
       "      <th>ProductName</th>\n",
       "      <th>EnglishProductSubcategoryName</th>\n",
       "    </tr>\n",
       "  </thead>\n",
       "  <tbody>\n",
       "    <tr>\n",
       "      <th>0</th>\n",
       "      <td>467</td>\n",
       "      <td>Half-Finger Gloves, L</td>\n",
       "      <td>Gloves</td>\n",
       "    </tr>\n",
       "    <tr>\n",
       "      <th>1</th>\n",
       "      <td>362</td>\n",
       "      <td>Mountain-200 Black, 46</td>\n",
       "      <td>Mountain Bikes</td>\n",
       "    </tr>\n",
       "    <tr>\n",
       "      <th>2</th>\n",
       "      <td>564</td>\n",
       "      <td>Touring-1000 Yellow, 60</td>\n",
       "      <td>Touring Bikes</td>\n",
       "    </tr>\n",
       "    <tr>\n",
       "      <th>3</th>\n",
       "      <td>472</td>\n",
       "      <td>Classic Vest, M</td>\n",
       "      <td>Vests</td>\n",
       "    </tr>\n",
       "    <tr>\n",
       "      <th>4</th>\n",
       "      <td>358</td>\n",
       "      <td>Mountain-200 Black, 38</td>\n",
       "      <td>Mountain Bikes</td>\n",
       "    </tr>\n",
       "  </tbody>\n",
       "</table>\n",
       "</div>"
      ],
      "text/plain": [
       "   ProductID              ProductName EnglishProductSubcategoryName\n",
       "0        467    Half-Finger Gloves, L                        Gloves\n",
       "1        362   Mountain-200 Black, 46                Mountain Bikes\n",
       "2        564  Touring-1000 Yellow, 60                 Touring Bikes\n",
       "3        472          Classic Vest, M                         Vests\n",
       "4        358   Mountain-200 Black, 38                Mountain Bikes"
      ]
     },
     "metadata": {},
     "output_type": "display_data"
    }
   ],
   "source": [
    "# Let's test the function\n",
    "DisplayRecommendation = rec_products(11000, product_train, customer_vecs, product_vecs, customers_arr, products_arr, product_lookup,\n",
    "                       num_products = 5)\n",
    "\n",
    "print(\"The top two recommended products are: \\n\",   \n",
    "     DisplayRecommendation.iloc[0,1],\n",
    "     \"and \\n\",\n",
    "     DisplayRecommendation.iloc[1,1])\n",
    "\n",
    "DisplayRecommendation['ProductID']=DisplayRecommendation['ProductID'].astype(int) #switch ProductID to integer to join tables\n",
    "DisplayRecommendation=DisplayRecommendation.merge(products_alldata[['ProductID','EnglishProductSubcategoryName']],how=\"left\",on='ProductID')\n",
    "\n",
    "display(DisplayRecommendation)\n"
   ]
  },
  {
   "cell_type": "markdown",
   "metadata": {},
   "source": [
    "## Recommendation Graphic User Interface"
   ]
  },
  {
   "cell_type": "code",
   "execution_count": 63,
   "metadata": {},
   "outputs": [],
   "source": [
    "from IPython.display import display_html"
   ]
  },
  {
   "cell_type": "code",
   "execution_count": 64,
   "metadata": {},
   "outputs": [],
   "source": [
    "def Recommendation():\n",
    "    Customer_ID=int(input(\"Customer ID:\"))\n",
    "    df1=(get_products_purchased(Customer_ID, product_train, customers_arr, products_arr, product_lookup))\n",
    "    df2=(rec_products(Customer_ID, product_train, customer_vecs, product_vecs, customers_arr, products_arr, product_lookup,\n",
    "                       num_products = 5))\n",
    "    \n",
    "    #add product subcategory to recommendation table\n",
    "    df2['ProductID']=df2['ProductID'].astype(int) #switch ProductID to integer to join tables\n",
    "    df2=df2.merge(products_alldata[['ProductID','EnglishProductSubcategoryName']],how=\"left\",on='ProductID')\n",
    "\n",
    "    \n",
    "    df1_styler = df1.style.\\\n",
    "                set_table_attributes(\"style='display:inline'\").\\\n",
    "                set_caption('This customer has purchased:')\n",
    "    df2_styler = df2.style.\\\n",
    "                    set_table_attributes(\"style='display:inline'\").\\\n",
    "                    set_caption('This customer should like:')\n",
    "    display_html(df1_styler._repr_html_()+df2_styler._repr_html_(), raw=True)\n",
    "    \n",
    "    print(\"So the top two recommended products are: \\n\",   \n",
    "     df2.iloc[0,1],\n",
    "     \"and \\n\",\n",
    "     df2.iloc[1,1])"
   ]
  },
  {
   "cell_type": "code",
   "execution_count": 65,
   "metadata": {},
   "outputs": [
    {
     "name": "stdout",
     "output_type": "stream",
     "text": [
      "Customer ID:11001\n"
     ]
    },
    {
     "data": {
      "text/html": [
       "<style  type=\"text/css\" >\n",
       "</style>  \n",
       "<table id=\"T_4881b1c2_023e_11ea_8162_001e64fbc10a\" style='display:inline'><caption>This customer has purchased:</caption> \n",
       "<thead>    <tr> \n",
       "        <th class=\"blank level0\" ></th> \n",
       "        <th class=\"col_heading level0 col0\" >ProductID</th> \n",
       "        <th class=\"col_heading level0 col1\" >ProductName</th> \n",
       "    </tr></thead> \n",
       "<tbody>    <tr> \n",
       "        <th id=\"T_4881b1c2_023e_11ea_8162_001e64fbc10alevel0_row0\" class=\"row_heading level0 row0\" >35</th> \n",
       "        <td id=\"T_4881b1c2_023e_11ea_8162_001e64fbc10arow0_col0\" class=\"data row0 col0\" >350</td> \n",
       "        <td id=\"T_4881b1c2_023e_11ea_8162_001e64fbc10arow0_col1\" class=\"data row0 col1\" >Mountain-100 Black, 44</td> \n",
       "    </tr>    <tr> \n",
       "        <th id=\"T_4881b1c2_023e_11ea_8162_001e64fbc10alevel0_row1\" class=\"row_heading level0 row1\" >5433</th> \n",
       "        <td id=\"T_4881b1c2_023e_11ea_8162_001e64fbc10arow1_col0\" class=\"data row1 col0\" >478</td> \n",
       "        <td id=\"T_4881b1c2_023e_11ea_8162_001e64fbc10arow1_col1\" class=\"data row1 col1\" >Mountain Bottle Cage</td> \n",
       "    </tr>    <tr> \n",
       "        <th id=\"T_4881b1c2_023e_11ea_8162_001e64fbc10alevel0_row2\" class=\"row_heading level0 row2\" >5434</th> \n",
       "        <td id=\"T_4881b1c2_023e_11ea_8162_001e64fbc10arow2_col0\" class=\"data row2 col0\" >477</td> \n",
       "        <td id=\"T_4881b1c2_023e_11ea_8162_001e64fbc10arow2_col1\" class=\"data row2 col1\" >Water Bottle - 30 oz.</td> \n",
       "    </tr>    <tr> \n",
       "        <th id=\"T_4881b1c2_023e_11ea_8162_001e64fbc10alevel0_row3\" class=\"row_heading level0 row3\" >5476</th> \n",
       "        <td id=\"T_4881b1c2_023e_11ea_8162_001e64fbc10arow3_col0\" class=\"data row3 col0\" >485</td> \n",
       "        <td id=\"T_4881b1c2_023e_11ea_8162_001e64fbc10arow3_col1\" class=\"data row3 col1\" >Fender Set - Mountain</td> \n",
       "    </tr>    <tr> \n",
       "        <th id=\"T_4881b1c2_023e_11ea_8162_001e64fbc10alevel0_row4\" class=\"row_heading level0 row4\" >5483</th> \n",
       "        <td id=\"T_4881b1c2_023e_11ea_8162_001e64fbc10arow4_col0\" class=\"data row4 col0\" >604</td> \n",
       "        <td id=\"T_4881b1c2_023e_11ea_8162_001e64fbc10arow4_col1\" class=\"data row4 col1\" >Road-750 Black, 44</td> \n",
       "    </tr>    <tr> \n",
       "        <th id=\"T_4881b1c2_023e_11ea_8162_001e64fbc10alevel0_row5\" class=\"row_heading level0 row5\" >5491</th> \n",
       "        <td id=\"T_4881b1c2_023e_11ea_8162_001e64fbc10arow5_col0\" class=\"data row5 col0\" >225</td> \n",
       "        <td id=\"T_4881b1c2_023e_11ea_8162_001e64fbc10arow5_col1\" class=\"data row5 col1\" >AWC Logo Cap</td> \n",
       "    </tr></tbody> \n",
       "</table> <style  type=\"text/css\" >\n",
       "</style>  \n",
       "<table id=\"T_48820092_023e_11ea_ab77_001e64fbc10a\" style='display:inline'><caption>This customer should like:</caption> \n",
       "<thead>    <tr> \n",
       "        <th class=\"blank level0\" ></th> \n",
       "        <th class=\"col_heading level0 col0\" >ProductID</th> \n",
       "        <th class=\"col_heading level0 col1\" >ProductName</th> \n",
       "        <th class=\"col_heading level0 col2\" >EnglishProductSubcategoryName</th> \n",
       "    </tr></thead> \n",
       "<tbody>    <tr> \n",
       "        <th id=\"T_48820092_023e_11ea_ab77_001e64fbc10alevel0_row0\" class=\"row_heading level0 row0\" >0</th> \n",
       "        <td id=\"T_48820092_023e_11ea_ab77_001e64fbc10arow0_col0\" class=\"data row0 col0\" >538</td> \n",
       "        <td id=\"T_48820092_023e_11ea_ab77_001e64fbc10arow0_col1\" class=\"data row0 col1\" >LL Road Tire</td> \n",
       "        <td id=\"T_48820092_023e_11ea_ab77_001e64fbc10arow0_col2\" class=\"data row0 col2\" >Tires and Tubes</td> \n",
       "    </tr>    <tr> \n",
       "        <th id=\"T_48820092_023e_11ea_ab77_001e64fbc10alevel0_row1\" class=\"row_heading level0 row1\" >1</th> \n",
       "        <td id=\"T_48820092_023e_11ea_ab77_001e64fbc10arow1_col0\" class=\"data row1 col0\" >363</td> \n",
       "        <td id=\"T_48820092_023e_11ea_ab77_001e64fbc10arow1_col1\" class=\"data row1 col1\" >Mountain-200 Black, 46</td> \n",
       "        <td id=\"T_48820092_023e_11ea_ab77_001e64fbc10arow1_col2\" class=\"data row1 col2\" >Mountain Bikes</td> \n",
       "    </tr>    <tr> \n",
       "        <th id=\"T_48820092_023e_11ea_ab77_001e64fbc10alevel0_row2\" class=\"row_heading level0 row2\" >2</th> \n",
       "        <td id=\"T_48820092_023e_11ea_ab77_001e64fbc10arow2_col0\" class=\"data row2 col0\" >222</td> \n",
       "        <td id=\"T_48820092_023e_11ea_ab77_001e64fbc10arow2_col1\" class=\"data row2 col1\" >Sport-100 Helmet, Blue</td> \n",
       "        <td id=\"T_48820092_023e_11ea_ab77_001e64fbc10arow2_col2\" class=\"data row2 col2\" >Helmets</td> \n",
       "    </tr>    <tr> \n",
       "        <th id=\"T_48820092_023e_11ea_ab77_001e64fbc10alevel0_row3\" class=\"row_heading level0 row3\" >3</th> \n",
       "        <td id=\"T_48820092_023e_11ea_ab77_001e64fbc10arow3_col0\" class=\"data row3 col0\" >355</td> \n",
       "        <td id=\"T_48820092_023e_11ea_ab77_001e64fbc10arow3_col1\" class=\"data row3 col1\" >Mountain-200 Silver, 42</td> \n",
       "        <td id=\"T_48820092_023e_11ea_ab77_001e64fbc10arow3_col2\" class=\"data row3 col2\" >Mountain Bikes</td> \n",
       "    </tr>    <tr> \n",
       "        <th id=\"T_48820092_023e_11ea_ab77_001e64fbc10alevel0_row4\" class=\"row_heading level0 row4\" >4</th> \n",
       "        <td id=\"T_48820092_023e_11ea_ab77_001e64fbc10arow4_col0\" class=\"data row4 col0\" >483</td> \n",
       "        <td id=\"T_48820092_023e_11ea_ab77_001e64fbc10arow4_col1\" class=\"data row4 col1\" >Hitch Rack - 4-Bike</td> \n",
       "        <td id=\"T_48820092_023e_11ea_ab77_001e64fbc10arow4_col2\" class=\"data row4 col2\" >Bike Racks</td> \n",
       "    </tr></tbody> \n",
       "</table> "
      ]
     },
     "metadata": {},
     "output_type": "display_data"
    },
    {
     "name": "stdout",
     "output_type": "stream",
     "text": [
      "So the top two recommended products are: \n",
      " LL Road Tire and \n",
      " Mountain-200 Black, 46\n"
     ]
    }
   ],
   "source": [
    "Recommendation()"
   ]
  },
  {
   "cell_type": "markdown",
   "metadata": {},
   "source": [
    "### Commercial Value"
   ]
  },
  {
   "cell_type": "markdown",
   "metadata": {},
   "source": [
    "- Lets assume from the top 10 recommendations presented to each customer, 1 item is bought each year and costs the average \n",
    "- price of the top 10 recommendations\n",
    "\n",
    "- We need to find the cost of the top 10 recommendations first"
   ]
  },
  {
   "cell_type": "code",
   "execution_count": 66,
   "metadata": {},
   "outputs": [],
   "source": [
    "CustomerRecommendation = rec_products(11000, product_train, customer_vecs, product_vecs, customers_arr, products_arr, product_lookup,\n",
    "                       num_products = 10)"
   ]
  },
  {
   "cell_type": "code",
   "execution_count": 67,
   "metadata": {},
   "outputs": [
    {
     "data": {
      "text/html": [
       "<div>\n",
       "<style scoped>\n",
       "    .dataframe tbody tr th:only-of-type {\n",
       "        vertical-align: middle;\n",
       "    }\n",
       "\n",
       "    .dataframe tbody tr th {\n",
       "        vertical-align: top;\n",
       "    }\n",
       "\n",
       "    .dataframe thead th {\n",
       "        text-align: right;\n",
       "    }\n",
       "</style>\n",
       "<table border=\"1\" class=\"dataframe\">\n",
       "  <thead>\n",
       "    <tr style=\"text-align: right;\">\n",
       "      <th></th>\n",
       "      <th>ProductID</th>\n",
       "      <th>ProductName</th>\n",
       "    </tr>\n",
       "  </thead>\n",
       "  <tbody>\n",
       "    <tr>\n",
       "      <th>0</th>\n",
       "      <td>467</td>\n",
       "      <td>Half-Finger Gloves, L</td>\n",
       "    </tr>\n",
       "    <tr>\n",
       "      <th>1</th>\n",
       "      <td>362</td>\n",
       "      <td>Mountain-200 Black, 46</td>\n",
       "    </tr>\n",
       "    <tr>\n",
       "      <th>2</th>\n",
       "      <td>564</td>\n",
       "      <td>Touring-1000 Yellow, 60</td>\n",
       "    </tr>\n",
       "    <tr>\n",
       "      <th>3</th>\n",
       "      <td>472</td>\n",
       "      <td>Classic Vest, M</td>\n",
       "    </tr>\n",
       "    <tr>\n",
       "      <th>4</th>\n",
       "      <td>358</td>\n",
       "      <td>Mountain-200 Black, 38</td>\n",
       "    </tr>\n",
       "    <tr>\n",
       "      <th>5</th>\n",
       "      <td>359</td>\n",
       "      <td>Mountain-200 Black, 38</td>\n",
       "    </tr>\n",
       "    <tr>\n",
       "      <th>6</th>\n",
       "      <td>562</td>\n",
       "      <td>Touring-1000 Yellow, 50</td>\n",
       "    </tr>\n",
       "    <tr>\n",
       "      <th>7</th>\n",
       "      <td>574</td>\n",
       "      <td>Touring-1000 Blue, 50</td>\n",
       "    </tr>\n",
       "    <tr>\n",
       "      <th>8</th>\n",
       "      <td>478</td>\n",
       "      <td>Mountain Bottle Cage</td>\n",
       "    </tr>\n",
       "    <tr>\n",
       "      <th>9</th>\n",
       "      <td>561</td>\n",
       "      <td>Touring-1000 Yellow, 46</td>\n",
       "    </tr>\n",
       "  </tbody>\n",
       "</table>\n",
       "</div>"
      ],
      "text/plain": [
       "  ProductID              ProductName\n",
       "0       467    Half-Finger Gloves, L\n",
       "1       362   Mountain-200 Black, 46\n",
       "2       564  Touring-1000 Yellow, 60\n",
       "3       472          Classic Vest, M\n",
       "4       358   Mountain-200 Black, 38\n",
       "5       359   Mountain-200 Black, 38\n",
       "6       562  Touring-1000 Yellow, 50\n",
       "7       574    Touring-1000 Blue, 50\n",
       "8       478     Mountain Bottle Cage\n",
       "9       561  Touring-1000 Yellow, 46"
      ]
     },
     "execution_count": 67,
     "metadata": {},
     "output_type": "execute_result"
    }
   ],
   "source": [
    "CustomerRecommendation"
   ]
  },
  {
   "cell_type": "code",
   "execution_count": 68,
   "metadata": {},
   "outputs": [
    {
     "data": {
      "text/html": [
       "<div>\n",
       "<style scoped>\n",
       "    .dataframe tbody tr th:only-of-type {\n",
       "        vertical-align: middle;\n",
       "    }\n",
       "\n",
       "    .dataframe tbody tr th {\n",
       "        vertical-align: top;\n",
       "    }\n",
       "\n",
       "    .dataframe thead th {\n",
       "        text-align: right;\n",
       "    }\n",
       "</style>\n",
       "<table border=\"1\" class=\"dataframe\">\n",
       "  <thead>\n",
       "    <tr style=\"text-align: right;\">\n",
       "      <th></th>\n",
       "      <th>ProductID</th>\n",
       "      <th>ProductAlternateKey</th>\n",
       "      <th>ProductSubcategoryKey</th>\n",
       "      <th>WeightUnitMeasureCode</th>\n",
       "      <th>SizeUnitMeasureCode</th>\n",
       "      <th>EnglishProductName</th>\n",
       "      <th>SpanishProductName</th>\n",
       "      <th>FrenchProductName</th>\n",
       "      <th>StandardCost</th>\n",
       "      <th>FinishedGoodsFlag</th>\n",
       "      <th>...</th>\n",
       "      <th>JapaneseDescription</th>\n",
       "      <th>TurkishDescription</th>\n",
       "      <th>StartDate</th>\n",
       "      <th>EndDate</th>\n",
       "      <th>Status</th>\n",
       "      <th>ProductSubcategoryAlternateKey</th>\n",
       "      <th>EnglishProductSubcategoryName</th>\n",
       "      <th>SpanishProductSubcategoryName</th>\n",
       "      <th>FrenchProductSubcategoryName</th>\n",
       "      <th>ProductCategoryKey</th>\n",
       "    </tr>\n",
       "  </thead>\n",
       "  <tbody>\n",
       "    <tr>\n",
       "      <th>0</th>\n",
       "      <td>1</td>\n",
       "      <td>AR-5381</td>\n",
       "      <td>NaN</td>\n",
       "      <td>None</td>\n",
       "      <td>None</td>\n",
       "      <td>Adjustable Race</td>\n",
       "      <td></td>\n",
       "      <td></td>\n",
       "      <td>NaN</td>\n",
       "      <td>False</td>\n",
       "      <td>...</td>\n",
       "      <td>None</td>\n",
       "      <td>None</td>\n",
       "      <td>2003-07-01</td>\n",
       "      <td>NaT</td>\n",
       "      <td>Current</td>\n",
       "      <td>NaN</td>\n",
       "      <td>NaN</td>\n",
       "      <td>NaN</td>\n",
       "      <td>NaN</td>\n",
       "      <td>NaN</td>\n",
       "    </tr>\n",
       "    <tr>\n",
       "      <th>1</th>\n",
       "      <td>2</td>\n",
       "      <td>BA-8327</td>\n",
       "      <td>NaN</td>\n",
       "      <td>None</td>\n",
       "      <td>None</td>\n",
       "      <td>Bearing Ball</td>\n",
       "      <td></td>\n",
       "      <td></td>\n",
       "      <td>NaN</td>\n",
       "      <td>False</td>\n",
       "      <td>...</td>\n",
       "      <td>None</td>\n",
       "      <td>None</td>\n",
       "      <td>2003-07-01</td>\n",
       "      <td>NaT</td>\n",
       "      <td>Current</td>\n",
       "      <td>NaN</td>\n",
       "      <td>NaN</td>\n",
       "      <td>NaN</td>\n",
       "      <td>NaN</td>\n",
       "      <td>NaN</td>\n",
       "    </tr>\n",
       "    <tr>\n",
       "      <th>2</th>\n",
       "      <td>3</td>\n",
       "      <td>BE-2349</td>\n",
       "      <td>NaN</td>\n",
       "      <td>None</td>\n",
       "      <td>None</td>\n",
       "      <td>BB Ball Bearing</td>\n",
       "      <td></td>\n",
       "      <td></td>\n",
       "      <td>NaN</td>\n",
       "      <td>False</td>\n",
       "      <td>...</td>\n",
       "      <td>None</td>\n",
       "      <td>None</td>\n",
       "      <td>2003-07-01</td>\n",
       "      <td>NaT</td>\n",
       "      <td>Current</td>\n",
       "      <td>NaN</td>\n",
       "      <td>NaN</td>\n",
       "      <td>NaN</td>\n",
       "      <td>NaN</td>\n",
       "      <td>NaN</td>\n",
       "    </tr>\n",
       "    <tr>\n",
       "      <th>3</th>\n",
       "      <td>4</td>\n",
       "      <td>BE-2908</td>\n",
       "      <td>NaN</td>\n",
       "      <td>None</td>\n",
       "      <td>None</td>\n",
       "      <td>Headset Ball Bearings</td>\n",
       "      <td></td>\n",
       "      <td></td>\n",
       "      <td>NaN</td>\n",
       "      <td>False</td>\n",
       "      <td>...</td>\n",
       "      <td>None</td>\n",
       "      <td>None</td>\n",
       "      <td>2003-07-01</td>\n",
       "      <td>NaT</td>\n",
       "      <td>Current</td>\n",
       "      <td>NaN</td>\n",
       "      <td>NaN</td>\n",
       "      <td>NaN</td>\n",
       "      <td>NaN</td>\n",
       "      <td>NaN</td>\n",
       "    </tr>\n",
       "    <tr>\n",
       "      <th>4</th>\n",
       "      <td>5</td>\n",
       "      <td>BL-2036</td>\n",
       "      <td>NaN</td>\n",
       "      <td>None</td>\n",
       "      <td>None</td>\n",
       "      <td>Blade</td>\n",
       "      <td></td>\n",
       "      <td></td>\n",
       "      <td>NaN</td>\n",
       "      <td>False</td>\n",
       "      <td>...</td>\n",
       "      <td>None</td>\n",
       "      <td>None</td>\n",
       "      <td>2003-07-01</td>\n",
       "      <td>NaT</td>\n",
       "      <td>Current</td>\n",
       "      <td>NaN</td>\n",
       "      <td>NaN</td>\n",
       "      <td>NaN</td>\n",
       "      <td>NaN</td>\n",
       "      <td>NaN</td>\n",
       "    </tr>\n",
       "  </tbody>\n",
       "</table>\n",
       "<p>5 rows × 41 columns</p>\n",
       "</div>"
      ],
      "text/plain": [
       "   ProductID ProductAlternateKey  ProductSubcategoryKey WeightUnitMeasureCode  \\\n",
       "0          1             AR-5381                    NaN                  None   \n",
       "1          2             BA-8327                    NaN                  None   \n",
       "2          3             BE-2349                    NaN                  None   \n",
       "3          4             BE-2908                    NaN                  None   \n",
       "4          5             BL-2036                    NaN                  None   \n",
       "\n",
       "  SizeUnitMeasureCode     EnglishProductName SpanishProductName  \\\n",
       "0                None        Adjustable Race                      \n",
       "1                None           Bearing Ball                      \n",
       "2                None        BB Ball Bearing                      \n",
       "3                None  Headset Ball Bearings                      \n",
       "4                None                  Blade                      \n",
       "\n",
       "  FrenchProductName  StandardCost  FinishedGoodsFlag         ...          \\\n",
       "0                             NaN              False         ...           \n",
       "1                             NaN              False         ...           \n",
       "2                             NaN              False         ...           \n",
       "3                             NaN              False         ...           \n",
       "4                             NaN              False         ...           \n",
       "\n",
       "  JapaneseDescription  TurkishDescription  StartDate  EndDate   Status  \\\n",
       "0                None                None 2003-07-01      NaT  Current   \n",
       "1                None                None 2003-07-01      NaT  Current   \n",
       "2                None                None 2003-07-01      NaT  Current   \n",
       "3                None                None 2003-07-01      NaT  Current   \n",
       "4                None                None 2003-07-01      NaT  Current   \n",
       "\n",
       "  ProductSubcategoryAlternateKey  EnglishProductSubcategoryName  \\\n",
       "0                            NaN                            NaN   \n",
       "1                            NaN                            NaN   \n",
       "2                            NaN                            NaN   \n",
       "3                            NaN                            NaN   \n",
       "4                            NaN                            NaN   \n",
       "\n",
       "   SpanishProductSubcategoryName FrenchProductSubcategoryName  \\\n",
       "0                            NaN                          NaN   \n",
       "1                            NaN                          NaN   \n",
       "2                            NaN                          NaN   \n",
       "3                            NaN                          NaN   \n",
       "4                            NaN                          NaN   \n",
       "\n",
       "   ProductCategoryKey  \n",
       "0                 NaN  \n",
       "1                 NaN  \n",
       "2                 NaN  \n",
       "3                 NaN  \n",
       "4                 NaN  \n",
       "\n",
       "[5 rows x 41 columns]"
      ]
     },
     "execution_count": 68,
     "metadata": {},
     "output_type": "execute_result"
    }
   ],
   "source": [
    "products_alldata.head()"
   ]
  },
  {
   "cell_type": "code",
   "execution_count": 69,
   "metadata": {},
   "outputs": [],
   "source": [
    "#Import Factinternetsales\n",
    "import pandas as pd\n",
    "fctintsales = pd.read_sql_query(\"\"\"\n",
    "SELECT\n",
    "[ProductKey]\n",
    ",avg([SalesAmount]) AS Avg_Sales\n",
    ",max([SalesAmount]) AS Max_Sales\n",
    "FROM [dbo].[FactInternetSales] group by [ProductKey] \"\"\", Cnt2SQL)"
   ]
  },
  {
   "cell_type": "code",
   "execution_count": 70,
   "metadata": {},
   "outputs": [],
   "source": [
    "#just get back product cost and list price\n",
    "products_short=fctintsales"
   ]
  },
  {
   "cell_type": "code",
   "execution_count": 71,
   "metadata": {},
   "outputs": [],
   "source": [
    "#rename ProductKey as ProductID as need to join tables\n",
    "products_short=products_short.rename(columns={\"ProductKey\": \"ProductID\"})"
   ]
  },
  {
   "cell_type": "code",
   "execution_count": 72,
   "metadata": {},
   "outputs": [
    {
     "data": {
      "text/html": [
       "<div>\n",
       "<style scoped>\n",
       "    .dataframe tbody tr th:only-of-type {\n",
       "        vertical-align: middle;\n",
       "    }\n",
       "\n",
       "    .dataframe tbody tr th {\n",
       "        vertical-align: top;\n",
       "    }\n",
       "\n",
       "    .dataframe thead th {\n",
       "        text-align: right;\n",
       "    }\n",
       "</style>\n",
       "<table border=\"1\" class=\"dataframe\">\n",
       "  <thead>\n",
       "    <tr style=\"text-align: right;\">\n",
       "      <th></th>\n",
       "      <th>ProductID</th>\n",
       "      <th>Avg_Sales</th>\n",
       "      <th>Max_Sales</th>\n",
       "    </tr>\n",
       "  </thead>\n",
       "  <tbody>\n",
       "    <tr>\n",
       "      <th>0</th>\n",
       "      <td>593</td>\n",
       "      <td>564.99</td>\n",
       "      <td>564.99</td>\n",
       "    </tr>\n",
       "    <tr>\n",
       "      <th>1</th>\n",
       "      <td>355</td>\n",
       "      <td>2319.99</td>\n",
       "      <td>2319.99</td>\n",
       "    </tr>\n",
       "    <tr>\n",
       "      <th>2</th>\n",
       "      <td>570</td>\n",
       "      <td>742.35</td>\n",
       "      <td>742.35</td>\n",
       "    </tr>\n",
       "    <tr>\n",
       "      <th>3</th>\n",
       "      <td>378</td>\n",
       "      <td>2443.35</td>\n",
       "      <td>2443.35</td>\n",
       "    </tr>\n",
       "    <tr>\n",
       "      <th>4</th>\n",
       "      <td>384</td>\n",
       "      <td>1120.49</td>\n",
       "      <td>1120.49</td>\n",
       "    </tr>\n",
       "  </tbody>\n",
       "</table>\n",
       "</div>"
      ],
      "text/plain": [
       "   ProductID  Avg_Sales  Max_Sales\n",
       "0        593     564.99     564.99\n",
       "1        355    2319.99    2319.99\n",
       "2        570     742.35     742.35\n",
       "3        378    2443.35    2443.35\n",
       "4        384    1120.49    1120.49"
      ]
     },
     "execution_count": 72,
     "metadata": {},
     "output_type": "execute_result"
    }
   ],
   "source": [
    "#take a look\n",
    "products_short.head()"
   ]
  },
  {
   "cell_type": "code",
   "execution_count": 73,
   "metadata": {},
   "outputs": [
    {
     "data": {
      "text/plain": [
       "ProductID      int64\n",
       "Avg_Sales    float64\n",
       "Max_Sales    float64\n",
       "dtype: object"
      ]
     },
     "execution_count": 73,
     "metadata": {},
     "output_type": "execute_result"
    }
   ],
   "source": [
    "products_short.dtypes"
   ]
  },
  {
   "cell_type": "code",
   "execution_count": 74,
   "metadata": {},
   "outputs": [
    {
     "data": {
      "text/plain": [
       "ProductID      object\n",
       "ProductName    object\n",
       "dtype: object"
      ]
     },
     "execution_count": 74,
     "metadata": {},
     "output_type": "execute_result"
    }
   ],
   "source": [
    "CustomerRecommendation.dtypes"
   ]
  },
  {
   "cell_type": "code",
   "execution_count": 75,
   "metadata": {},
   "outputs": [],
   "source": [
    "#need to make productID same type in both tables\n",
    "CustomerRecommendation['ProductID'] = CustomerRecommendation.ProductID.astype(int)"
   ]
  },
  {
   "cell_type": "code",
   "execution_count": 76,
   "metadata": {},
   "outputs": [],
   "source": [
    "CustomerRecommendation=CustomerRecommendation.merge(products_short,how=\"left\",on='ProductID')"
   ]
  },
  {
   "cell_type": "code",
   "execution_count": 77,
   "metadata": {},
   "outputs": [
    {
     "data": {
      "text/html": [
       "<div>\n",
       "<style scoped>\n",
       "    .dataframe tbody tr th:only-of-type {\n",
       "        vertical-align: middle;\n",
       "    }\n",
       "\n",
       "    .dataframe tbody tr th {\n",
       "        vertical-align: top;\n",
       "    }\n",
       "\n",
       "    .dataframe thead th {\n",
       "        text-align: right;\n",
       "    }\n",
       "</style>\n",
       "<table border=\"1\" class=\"dataframe\">\n",
       "  <thead>\n",
       "    <tr style=\"text-align: right;\">\n",
       "      <th></th>\n",
       "      <th>ProductID</th>\n",
       "      <th>ProductName</th>\n",
       "      <th>Avg_Sales</th>\n",
       "      <th>Max_Sales</th>\n",
       "    </tr>\n",
       "  </thead>\n",
       "  <tbody>\n",
       "    <tr>\n",
       "      <th>0</th>\n",
       "      <td>467</td>\n",
       "      <td>Half-Finger Gloves, L</td>\n",
       "      <td>24.4900</td>\n",
       "      <td>24.4900</td>\n",
       "    </tr>\n",
       "    <tr>\n",
       "      <th>1</th>\n",
       "      <td>362</td>\n",
       "      <td>Mountain-200 Black, 46</td>\n",
       "      <td>2049.0982</td>\n",
       "      <td>2049.0982</td>\n",
       "    </tr>\n",
       "    <tr>\n",
       "      <th>2</th>\n",
       "      <td>564</td>\n",
       "      <td>Touring-1000 Yellow, 60</td>\n",
       "      <td>2384.0700</td>\n",
       "      <td>2384.0700</td>\n",
       "    </tr>\n",
       "    <tr>\n",
       "      <th>3</th>\n",
       "      <td>472</td>\n",
       "      <td>Classic Vest, M</td>\n",
       "      <td>63.5000</td>\n",
       "      <td>63.5000</td>\n",
       "    </tr>\n",
       "    <tr>\n",
       "      <th>4</th>\n",
       "      <td>358</td>\n",
       "      <td>Mountain-200 Black, 38</td>\n",
       "      <td>2049.0982</td>\n",
       "      <td>2049.0982</td>\n",
       "    </tr>\n",
       "    <tr>\n",
       "      <th>5</th>\n",
       "      <td>359</td>\n",
       "      <td>Mountain-200 Black, 38</td>\n",
       "      <td>2294.9900</td>\n",
       "      <td>2294.9900</td>\n",
       "    </tr>\n",
       "    <tr>\n",
       "      <th>6</th>\n",
       "      <td>562</td>\n",
       "      <td>Touring-1000 Yellow, 50</td>\n",
       "      <td>2384.0700</td>\n",
       "      <td>2384.0700</td>\n",
       "    </tr>\n",
       "    <tr>\n",
       "      <th>7</th>\n",
       "      <td>574</td>\n",
       "      <td>Touring-1000 Blue, 50</td>\n",
       "      <td>2384.0700</td>\n",
       "      <td>2384.0700</td>\n",
       "    </tr>\n",
       "    <tr>\n",
       "      <th>8</th>\n",
       "      <td>478</td>\n",
       "      <td>Mountain Bottle Cage</td>\n",
       "      <td>9.9900</td>\n",
       "      <td>9.9900</td>\n",
       "    </tr>\n",
       "    <tr>\n",
       "      <th>9</th>\n",
       "      <td>561</td>\n",
       "      <td>Touring-1000 Yellow, 46</td>\n",
       "      <td>2384.0700</td>\n",
       "      <td>2384.0700</td>\n",
       "    </tr>\n",
       "  </tbody>\n",
       "</table>\n",
       "</div>"
      ],
      "text/plain": [
       "   ProductID              ProductName  Avg_Sales  Max_Sales\n",
       "0        467    Half-Finger Gloves, L    24.4900    24.4900\n",
       "1        362   Mountain-200 Black, 46  2049.0982  2049.0982\n",
       "2        564  Touring-1000 Yellow, 60  2384.0700  2384.0700\n",
       "3        472          Classic Vest, M    63.5000    63.5000\n",
       "4        358   Mountain-200 Black, 38  2049.0982  2049.0982\n",
       "5        359   Mountain-200 Black, 38  2294.9900  2294.9900\n",
       "6        562  Touring-1000 Yellow, 50  2384.0700  2384.0700\n",
       "7        574    Touring-1000 Blue, 50  2384.0700  2384.0700\n",
       "8        478     Mountain Bottle Cage     9.9900     9.9900\n",
       "9        561  Touring-1000 Yellow, 46  2384.0700  2384.0700"
      ]
     },
     "execution_count": 77,
     "metadata": {},
     "output_type": "execute_result"
    }
   ],
   "source": [
    "CustomerRecommendation"
   ]
  },
  {
   "cell_type": "code",
   "execution_count": 78,
   "metadata": {},
   "outputs": [
    {
     "name": "stdout",
     "output_type": "stream",
     "text": [
      "based on product Standard cost  1602.74464\n",
      "based on product List price 1602.74464\n"
     ]
    }
   ],
   "source": [
    "#assumed additional income from customer as result of recommendation \n",
    "#= average cost and list price for the customer's top 10 recommendations\n",
    "#CustomerRecommendation.StandardCost.mean()\n",
    "print(\"based on product Standard cost \", CustomerRecommendation.Avg_Sales.mean())\n",
    "print(\"based on product List price\", CustomerRecommendation.Max_Sales.mean())"
   ]
  },
  {
   "cell_type": "code",
   "execution_count": 79,
   "metadata": {},
   "outputs": [
    {
     "data": {
      "text/plain": [
       "18484"
      ]
     },
     "execution_count": 79,
     "metadata": {},
     "output_type": "execute_result"
    }
   ],
   "source": [
    "internet_sales.CustomerID.nunique()"
   ]
  },
  {
   "cell_type": "code",
   "execution_count": 80,
   "metadata": {},
   "outputs": [],
   "source": [
    "#too many customers to loop thru, so lets look at top 500 customers by order volume only\n",
    "\n",
    "#first group and sort the customers\n",
    "rankedcust=internet_sales.groupby('CustomerID').agg({'OrderVol':'sum'}).sort_values(by='OrderVol', ascending=False).reset_index()"
   ]
  },
  {
   "cell_type": "code",
   "execution_count": 81,
   "metadata": {},
   "outputs": [
    {
     "data": {
      "text/html": [
       "<div>\n",
       "<style scoped>\n",
       "    .dataframe tbody tr th:only-of-type {\n",
       "        vertical-align: middle;\n",
       "    }\n",
       "\n",
       "    .dataframe tbody tr th {\n",
       "        vertical-align: top;\n",
       "    }\n",
       "\n",
       "    .dataframe thead th {\n",
       "        text-align: right;\n",
       "    }\n",
       "</style>\n",
       "<table border=\"1\" class=\"dataframe\">\n",
       "  <thead>\n",
       "    <tr style=\"text-align: right;\">\n",
       "      <th></th>\n",
       "      <th>CustomerID</th>\n",
       "      <th>OrderVol</th>\n",
       "    </tr>\n",
       "  </thead>\n",
       "  <tbody>\n",
       "    <tr>\n",
       "      <th>0</th>\n",
       "      <td>11185</td>\n",
       "      <td>68</td>\n",
       "    </tr>\n",
       "    <tr>\n",
       "      <th>1</th>\n",
       "      <td>11300</td>\n",
       "      <td>67</td>\n",
       "    </tr>\n",
       "    <tr>\n",
       "      <th>2</th>\n",
       "      <td>11277</td>\n",
       "      <td>65</td>\n",
       "    </tr>\n",
       "    <tr>\n",
       "      <th>3</th>\n",
       "      <td>11262</td>\n",
       "      <td>63</td>\n",
       "    </tr>\n",
       "    <tr>\n",
       "      <th>4</th>\n",
       "      <td>11287</td>\n",
       "      <td>62</td>\n",
       "    </tr>\n",
       "  </tbody>\n",
       "</table>\n",
       "</div>"
      ],
      "text/plain": [
       "   CustomerID  OrderVol\n",
       "0       11185        68\n",
       "1       11300        67\n",
       "2       11277        65\n",
       "3       11262        63\n",
       "4       11287        62"
      ]
     },
     "execution_count": 81,
     "metadata": {},
     "output_type": "execute_result"
    }
   ],
   "source": [
    "rankedcust.head()"
   ]
  },
  {
   "cell_type": "code",
   "execution_count": 82,
   "metadata": {},
   "outputs": [
    {
     "data": {
      "text/plain": [
       "(18484, 2)"
      ]
     },
     "execution_count": 82,
     "metadata": {},
     "output_type": "execute_result"
    }
   ],
   "source": [
    "#check\n",
    "rankedcust.shape"
   ]
  },
  {
   "cell_type": "code",
   "execution_count": 83,
   "metadata": {},
   "outputs": [
    {
     "name": "stdout",
     "output_type": "stream",
     "text": [
      "Commercial Benefit (based on Standard Cost) if all customers buy one of their top 10 recommended purchases 379483.4692499998\n",
      "Commercial Benefit (based on List Price) if all customers buy one of their top 10 recommended purchases 379483.4692499998\n"
     ]
    }
   ],
   "source": [
    "#now set up a loop to go thru Top 500 customers\n",
    "\n",
    "Benefit_SC=0\n",
    "Benefit_LP=0\n",
    "\n",
    "for i in range (1,500):\n",
    "    #top 10 recommendations for customer\n",
    "    CustomerRecommendation = rec_products(rankedcust.CustomerID[i-1], product_train, customer_vecs, product_vecs, customers_arr, products_arr, product_lookup,\n",
    "                           num_products = 10)\n",
    "\n",
    "    #need to make productID same type in both tables\n",
    "    CustomerRecommendation['ProductID'] = CustomerRecommendation.ProductID.astype(int)\n",
    "    CustomerRecommendation=CustomerRecommendation.merge(products_short,how=\"left\",on='ProductID')\n",
    "\n",
    "    Benefit_SC=Benefit_SC+CustomerRecommendation.Avg_Sales.mean()\n",
    "    Benefit_LP=Benefit_LP+CustomerRecommendation.Max_Sales.mean()\n",
    "\n",
    "print(\"Commercial Benefit (based on Standard Cost) if all customers buy one of their top 10 recommended purchases\", Benefit_SC)\n",
    "print(\"Commercial Benefit (based on List Price) if all customers buy one of their top 10 recommended purchases\", Benefit_LP)  "
   ]
  },
  {
   "cell_type": "code",
   "execution_count": null,
   "metadata": {},
   "outputs": [],
   "source": []
  },
  {
   "cell_type": "code",
   "execution_count": null,
   "metadata": {},
   "outputs": [],
   "source": []
  }
 ],
 "metadata": {
  "kernelspec": {
   "display_name": "Python 3",
   "language": "python",
   "name": "python3"
  },
  "language_info": {
   "codemirror_mode": {
    "name": "ipython",
    "version": 3
   },
   "file_extension": ".py",
   "mimetype": "text/x-python",
   "name": "python",
   "nbconvert_exporter": "python",
   "pygments_lexer": "ipython3",
   "version": "3.7.1"
  }
 },
 "nbformat": 4,
 "nbformat_minor": 2
}
